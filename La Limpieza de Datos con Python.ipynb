{
 "cells": [
  {
   "cell_type": "markdown",
   "metadata": {
    "collapsed": true,
    "nbpresent": {
     "id": "26b3b9ad-6a1d-474b-8f6c-40acd315151a"
    },
    "slideshow": {
     "slide_type": "slide"
    }
   },
   "source": [
    "# La Limpieza de datos con Python  \n",
    "\n",
    "\n",
    "**Naomi Ceder, @naomiceder**\n",
    "\n",
    "- **(Outgoing) Chair, Python Software Foundation**\n",
    "- **La autora del Quick Python Book, 3rd ed**\n",
    "- **Dick Blick Art Materials**\n",
    "\n",
    "**Este cuaderno (pero no los archivos de datos) está disponible en Github - https://github.com/nceder/limpieza_de_datos**\n"
   ]
  },
  {
   "cell_type": "markdown",
   "metadata": {
    "nbpresent": {
     "id": "cca27bf6-5f61-46a7-bb21-e5759ea6981d"
    },
    "slideshow": {
     "slide_type": "slide"
    }
   },
   "source": [
    "## Agenda\n",
    "\n",
    "### Sobre la Python Software Foundation\n",
    "* La PSF\n",
    "   * La misión de la Python Software Foundation\n",
    "   * La situación de la PSF en el crisis actual"
   ]
  },
  {
   "cell_type": "markdown",
   "metadata": {
    "nbpresent": {
     "id": "cca27bf6-5f61-46a7-bb21-e5759ea6981d"
    },
    "slideshow": {
     "slide_type": "slide"
    }
   },
   "source": [
    "### Limpieza de datos\n",
    "\n",
    "* Introdución\n",
    "  * Herriamientas\n",
    "  * Buscando ayuda\n",
    "\n",
    "* Problema de muestra - contar palabras en *Don Quixote*\n",
    "  * técnicas\n",
    "     * str.translate y métodos de cadenas\n",
    "     * funciones\n",
    "     * decorators\n",
    "     * comprensiones como filtros\n",
    "     * expresiones regulares\n",
    "     * NLTK\n"
   ]
  },
  {
   "cell_type": "markdown",
   "metadata": {
    "slideshow": {
     "slide_type": "slide"
    }
   },
   "source": [
    "### La PSF\n",
    "   * La misión de la Python Software Foundation\n",
    "   \n",
    "   “La misión de la Python Software Foundation es promover, proteger y avanzar el lenguaje de programación de Python y apoyar y facilitar el crecimiento de una comunidad diversa e internacional de programadores de Python”"
   ]
  },
  {
   "cell_type": "markdown",
   "metadata": {
    "slideshow": {
     "slide_type": "slide"
    }
   },
   "source": [
    "#### Proteger la propriedad intelectual\n",
    "\n",
    "* registar las marcas y logos de Python, PyPI, PyCon, PyLadies en todo el mundo\n",
    "    * si alguien va a usar (o cambiar) las marcas y logos, sería una buena idea que pedir permiso de psf-trademarks@python.org\n",
    "* mantener los derechos del autor de todo el código de Python\n",
    "   * para contribuir código a Python, debe sumitir una copia afirmada del contributor's agreement\n",
    "   "
   ]
  },
  {
   "cell_type": "markdown",
   "metadata": {
    "slideshow": {
     "slide_type": "slide"
    }
   },
   "source": [
    "#### Apoyar una comunidad diversa e internacional\n",
    "\n",
    "* Apoyar las comunidades y sus eventos en todo el mundo (casi $350,000 en 2019)\n",
    "\n",
    "    * se ponga en contacto con la PSF en psf@python.org\n",
    "    * únete a nosotros en https://www.python.org/psf-landing/\n",
    "       * miembro básico - gratis, solo se registre \n",
    "       * miembro de apoyo - $99 por año, se puede votar en las elecciones en junio \n",
    "       * miembro contribuyente - 5 horas voluntarias por mes, también se puede votar\n",
    "       \n",
    " "
   ]
  },
  {
   "cell_type": "markdown",
   "metadata": {
    "slideshow": {
     "slide_type": "slide"
    }
   },
   "source": [
    "* La situación de la PSF en el crisis actual\n",
    "  * PyCon 2020 ha sido cancelado; las charlas y talleres se encuentran en https://us.pycon.org/2020/online/\n",
    "  * Gracias a los patrocinadores y asistentes que no exigieron un reembolso, podemos cubrir los gastos, pero sin las ganancias de PyCon usaremos reservas el próximo año. \n",
    "  * Una pausa temporal de dar las becas y grants\n",
    "  * PyCon 2021 - ¿quién sabe?"
   ]
  },
  {
   "cell_type": "markdown",
   "metadata": {
    "slideshow": {
     "slide_type": "slide"
    }
   },
   "source": [
    "### El enfoque de este taller\n",
    "\n",
    "* trabajar con varios ejemplos\n",
    "* usar las herriemientas las más básicas posible \n",
    "* ganar experiencia\n",
    "\n"
   ]
  },
  {
   "cell_type": "markdown",
   "metadata": {
    "nbpresent": {
     "id": "d52073c0-a871-4bed-aab5-77f0514d8031"
    },
    "slideshow": {
     "slide_type": "slide"
    }
   },
   "source": [
    "## Philosofía del taller\n",
    "\n",
    "“Todas las familias felices se parecen unas a otras, pero cada familia infeliz lo es a su manera.” - Tolstoy\n",
    "\n",
    "“¿Qué podría salir mal?” - Naomi, and many others\n",
    "\n",
    "“Si algo puede salir mal, lo hará” - Murphy"
   ]
  },
  {
   "cell_type": "markdown",
   "metadata": {
    "nbpresent": {
     "id": "d89f0121-0c7c-4b75-8807-b4707ae468f0"
    },
    "slideshow": {
     "slide_type": "fragment"
    }
   },
   "source": [
    "**o**\n",
    "\n",
    "Si todo va bien, puede usar las herramientas de alto nivel, pero cuando las cosas salen mal, debe trabajar en un nivel inferior. Y muchas veces las cosas salen mal.\n",
    "\n"
   ]
  },
  {
   "cell_type": "markdown",
   "metadata": {
    "nbpresent": {
     "id": "7638f572-4bae-4b96-adb0-1fae64570d7e"
    },
    "slideshow": {
     "slide_type": "slide"
    }
   },
   "source": [
    "## Herriamientas\n",
    "\n",
    "* Python 3.8+\n",
    "* la librería estándar - `CSV, JSON, sys, os, str, re` módulos\n",
    "* `pip`\n",
    "  * `conda` si usas una distribución de Anaconda\n",
    "* los entornos virturales\n",
    "  * virtualenv o conda-env\n",
    "* NLTK\n"
   ]
  },
  {
   "cell_type": "markdown",
   "metadata": {
    "slideshow": {
     "slide_type": "slide"
    }
   },
   "source": [
    "### ¿es librería o biblioteca? #EsBibliotecaNoLibreria\n",
    "\n",
    " <img src=\"es_biblioteca.jpg\">\n",
    " <img src=\"tipado_de_pato.png\">"
   ]
  },
  {
   "cell_type": "markdown",
   "metadata": {
    "nbpresent": {
     "id": "b87321af-d1fb-4087-b1c1-3416ddc3e825"
    },
    "slideshow": {
     "slide_type": "slide"
    }
   },
   "source": [
    "## Buscando ayuda\n",
    "* Python - docs.python.org y https://python-docs-es.readthedocs.io/es/3.8/\n",
    "* la documentación de las ~~librerías~~ bibliotecas\n",
    "* dir() y help() en una shell Python\n"
   ]
  },
  {
   "cell_type": "markdown",
   "metadata": {
    "nbpresent": {
     "id": "adecdecf-3fae-4cbe-924a-f771e1472170"
    },
    "slideshow": {
     "slide_type": "slide"
    }
   },
   "source": [
    "### La documentación en Python.org \n",
    "\n",
    "* Python Tutorial - https://docs.python.org/3/tutorial/index.html / https://python-docs-es.readthedocs.io/es/3.8/tutorial/index.html\n",
    "* La ~~librería~~biblioteca estándar - https://docs.python.org/3/library/index.html - (aún no se traduce) https://python-docs-es.readthedocs.io/es/3.8/library/index.html\n"
   ]
  },
  {
   "cell_type": "markdown",
   "metadata": {
    "nbpresent": {
     "id": "f3c1746e-4236-45e4-9849-55133d08c7e3"
    },
    "slideshow": {
     "slide_type": "slide"
    }
   },
   "source": [
    "## Texto plano\n",
    "\n",
    "* el format de archivos el más simple\n",
    "* lo menor de estructura\n",
    "* lo más de opciones y decisiones\n",
    "* cómo procesar texto plano está controlada por el uso de los datos"
   ]
  },
  {
   "cell_type": "markdown",
   "metadata": {
    "nbpresent": {
     "id": "f3c1746e-4236-45e4-9849-55133d08c7e3"
    },
    "slideshow": {
     "slide_type": "slide"
    }
   },
   "source": [
    "### Problema - contar las palabras en Don Quixote\n",
    "\n",
    "Cuáles son las palabras más frecuentes en *Don Quixote*\n",
    "\n",
    "Requirements:\n",
    "\n",
    "1. texto de la novela como una serie de palabras\n",
    "2. no se cuentan otros cáracteres o símbolos\n",
    "3. las variaciones de una palabra deben contarse como la misma palabra - \"caballero\" == \"caballeros\" == \"CABALLERO\" == \"Caballero\""
   ]
  },
  {
   "cell_type": "markdown",
   "metadata": {
    "nbpresent": {
     "id": "f3c1746e-4236-45e4-9849-55133d08c7e3"
    },
    "slideshow": {
     "slide_type": "slide"
    }
   },
   "source": [
    "### En general, esto significa\n",
    "* limpieza de los datos \n",
    "   * eliminar los carácteres no UTF8\n",
    "   * eliminar los carácteres no alfanumericos - la punctuación y otros\n",
    "* normalización - maiúsculos/minúsculos\n",
    "* tokenization - ¿qué es una palabra?\n",
    "   * partir las palabras usando carácteres especifícos (e.g., los espacios y/o la punctuación)\n",
    "   * partir las palabras con regular expressions\n",
    "   * stemming/lemmatization (NLTK tokens)"
   ]
  },
  {
   "cell_type": "markdown",
   "metadata": {
    "slideshow": {
     "slide_type": "slide"
    }
   },
   "source": [
    "## Obtener el texto\n",
    "\n",
    "* pip install requests\n",
    "* descargar el texto"
   ]
  },
  {
   "cell_type": "code",
   "execution_count": null,
   "metadata": {
    "slideshow": {
     "slide_type": "slide"
    }
   },
   "outputs": [],
   "source": [
    "import requests\n",
    "\n",
    "respuesta = requests.get(\n",
    "    \"http://www.gutenberg.org/cache/epub/2000/pg2000.txt\"\n",
    ")\n",
    "\n",
    "texto = respuesta.text\n",
    "\n",
    "\n",
    "with open(\"quixote.txt\", \"w\") as archivo:\n",
    "    archivo.write(texto)   \n",
    "    "
   ]
  },
  {
   "cell_type": "code",
   "execution_count": null,
   "metadata": {
    "slideshow": {
     "slide_type": "slide"
    }
   },
   "outputs": [],
   "source": [
    "texto[:100]"
   ]
  },
  {
   "cell_type": "markdown",
   "metadata": {
    "slideshow": {
     "slide_type": "slide"
    }
   },
   "source": [
    "### Solución ingenua \n",
    "* cuenta de palabras simple\n",
    "* no procesiamiento"
   ]
  },
  {
   "cell_type": "code",
   "execution_count": null,
   "metadata": {
    "slideshow": {
     "slide_type": "slide"
    }
   },
   "outputs": [],
   "source": [
    "# cuenta de palabras\n",
    "\n",
    "from collections import Counter\n",
    "\n",
    "cuenta_quixote = Counter()\n",
    "\n",
    "def tokenize(línea):\n",
    "    # partir con espacios en blanco\n",
    "    return línea.split()\n",
    "    \n",
    "def limpiar(línea):\n",
    "    # eliminar espacios en blanco iniciales y finales\n",
    "    return línea.strip()\n",
    "\n",
    "def normalizar(línea):\n",
    "    return línea\n",
    "\n",
    "with open(\"quixote.txt\") as quixote:\n",
    "    for línea in quixote:\n",
    "        línea = limpiar(línea)\n",
    "        línea = normalizar(línea)\n",
    "        tokens = tokenize(línea)\n",
    "        cuenta_quixote.update(tokens)\n",
    "        "
   ]
  },
  {
   "cell_type": "code",
   "execution_count": null,
   "metadata": {
    "scrolled": true,
    "slideshow": {
     "slide_type": "slide"
    }
   },
   "outputs": [],
   "source": [
    "print(cuenta_quixote.most_common()[:100])"
   ]
  },
  {
   "cell_type": "code",
   "execution_count": null,
   "metadata": {
    "scrolled": true,
    "slideshow": {
     "slide_type": "slide"
    }
   },
   "outputs": [],
   "source": [
    "print(cuenta_quixote.most_common()[-200:])"
   ]
  },
  {
   "cell_type": "markdown",
   "metadata": {
    "slideshow": {
     "slide_type": "slide"
    }
   },
   "source": [
    "### Mejoras\n",
    "* editar el archivo para eliminar el texto extra\n",
    "* todo en minúsculos\n",
    "* métodos de las cadenas - upper(), lower(), replace(), find(), index(), in, startswith(), endswith(), etc\n"
   ]
  },
  {
   "cell_type": "code",
   "execution_count": null,
   "metadata": {
    "slideshow": {
     "slide_type": "slide"
    }
   },
   "outputs": [],
   "source": [
    "# cuenta de palabras\n",
    "from collections import Counter\n",
    "\n",
    "cuenta_quixote = Counter()\n",
    "\n",
    "def tokenize(línea):\n",
    "    palabras = línea.split() \n",
    "    return palabras\n",
    "\n",
    "\n",
    "def limpiar(línea):\n",
    "    return línea.strip()\n",
    "\n",
    "\n",
    "def normalizar(línea):\n",
    "    return línea.lower()\n",
    "\n",
    "\n",
    "with open(\"quixote_texto.txt\") as quixote:\n",
    "    for línea in quixote:\n",
    "        línea = limpiar(línea)\n",
    "        línea = normalizar(línea)\n",
    "        tokens = tokenize(línea)\n",
    "        cuenta_quixote.update(tokens)"
   ]
  },
  {
   "cell_type": "code",
   "execution_count": null,
   "metadata": {
    "scrolled": true,
    "slideshow": {
     "slide_type": "slide"
    }
   },
   "outputs": [],
   "source": [
    "      \n",
    "print(cuenta_quixote.most_common(100))"
   ]
  },
  {
   "cell_type": "code",
   "execution_count": null,
   "metadata": {
    "scrolled": true,
    "slideshow": {
     "slide_type": "slide"
    }
   },
   "outputs": [],
   "source": [
    "print(cuenta_quixote.most_common()[-200:])"
   ]
  },
  {
   "cell_type": "markdown",
   "metadata": {
    "slideshow": {
     "slide_type": "slide"
    }
   },
   "source": [
    "### Trucos de limpieza - funciones y decorators\n",
    "* si el código se usa mucho, debe convertirse a una función - hecho\n",
    "* si una función se usa mucho con otras funciones, puede convertirse a un decorator\n"
   ]
  },
  {
   "cell_type": "code",
   "execution_count": null,
   "metadata": {},
   "outputs": [],
   "source": [
    "def normalizar(func):\n",
    "    def wrapper(línea):\n",
    "        línea = línea.lower()\n",
    "        return func(línea)\n",
    "    return wrapper\n",
    "\n",
    "#def normalizar(línea):\n",
    "#    return línea.lower()\n",
    "\n",
    "\n"
   ]
  },
  {
   "cell_type": "code",
   "execution_count": null,
   "metadata": {
    "slideshow": {
     "slide_type": "slide"
    }
   },
   "outputs": [],
   "source": [
    "# cuenta de palabras\n",
    "from collections import Counter\n",
    "\n",
    "cuenta_quixote = Counter()\n",
    "\n",
    "def tokenize(línea):\n",
    "    palabras = línea.split() \n",
    "    return palabras\n",
    "\n",
    "@normalizar\n",
    "def limpiar(línea):\n",
    "    return línea.strip()\n",
    "\n",
    "\n",
    "with open(\"quixote_texto.txt\") as quixote:\n",
    "    for línea in quixote:\n",
    "        línea = limpiar(línea)\n",
    "        #línea = normalizar(línea)\n",
    "        tokens = tokenize(línea)\n",
    "        cuenta_quixote.update(tokens)\n",
    "        "
   ]
  },
  {
   "cell_type": "code",
   "execution_count": null,
   "metadata": {
    "scrolled": true,
    "slideshow": {
     "slide_type": "slide"
    }
   },
   "outputs": [],
   "source": [
    "      \n",
    "print(cuenta_quixote.most_common(100))"
   ]
  },
  {
   "cell_type": "markdown",
   "metadata": {
    "slideshow": {
     "slide_type": "slide"
    }
   },
   "source": [
    "### Otras mejoras\n",
    "* eliminar la punctuación, etc\n",
    "* `str.translate()` & `str.maketrans()`\n",
    "* filtrar las palabras \"stop words\" - usar una comprensión de listas como un filtro\n"
   ]
  },
  {
   "cell_type": "code",
   "execution_count": null,
   "metadata": {
    "slideshow": {
     "slide_type": "slide"
    }
   },
   "outputs": [],
   "source": [
    "# cuenta de palabras\n",
    "from collections import Counter\n",
    "cuenta_quixote = Counter()\n",
    "punct_table = str.maketrans(\".,\\\"-:;?¿!¡‹›«»\", \"              \")\n",
    "\n",
    "def tokenize(línea):\n",
    "    palabras = línea.split() \n",
    "    return palabras\n",
    "\n",
    "@normalizar\n",
    "def limpiar(línea):\n",
    "    línea =  línea.strip()\n",
    "    return línea.translate(punct_table)\n",
    "\n",
    "with open(\"quixote_texto.txt\") as quixote:\n",
    "    for línea in quixote:\n",
    "        línea = limpiar(línea)\n",
    "        tokens = tokenize(línea)\n",
    "        cuenta_quixote.update(tokens)"
   ]
  },
  {
   "cell_type": "code",
   "execution_count": null,
   "metadata": {
    "scrolled": false,
    "slideshow": {
     "slide_type": "slide"
    }
   },
   "outputs": [],
   "source": [
    "      \n",
    "print(cuenta_quixote.most_common(100))"
   ]
  },
  {
   "cell_type": "code",
   "execution_count": null,
   "metadata": {
    "scrolled": true,
    "slideshow": {
     "slide_type": "slide"
    }
   },
   "outputs": [],
   "source": [
    "print(cuenta_quixote.most_common()[-200:])"
   ]
  },
  {
   "cell_type": "markdown",
   "metadata": {
    "slideshow": {
     "slide_type": "slide"
    }
   },
   "source": [
    "### Cómo crear una tabla de palabras vacías\n",
    "* Hay listas que puede descargarse\n",
    "* Mira las palabras más comunes y elimine las que no están vacías\n",
    "* Usa conjuntos (set) para el mejor rendimiento\n"
   ]
  },
  {
   "cell_type": "code",
   "execution_count": null,
   "metadata": {
    "slideshow": {
     "slide_type": "slide"
    }
   },
   "outputs": [],
   "source": [
    "vacías_set = [f\"{x[0]}\" for x in cuenta_quixote.most_common(200)]\n",
    "vacías_set"
   ]
  },
  {
   "cell_type": "code",
   "execution_count": null,
   "metadata": {
    "slideshow": {
     "slide_type": "slide"
    }
   },
   "outputs": [],
   "source": [
    "palabras_vacías = {'que', 'de', 'y', 'la', 'a', 'el', 'en', 'no',\n",
    "                 'se', 'los', 'con', 'por', 'las', 'lo', 'le', 'su', \n",
    "                 'del', 'me', 'como', 'es', 'un', 'más', 'si', 'yo', \n",
    "                 'al', 'mi', 'para', 'ni', 'una', 'y,', 'tan', 'porque', \n",
    "                 'o', 'sin', 'sus', 'ha', 'él', 'había', 'ser', \n",
    "                 'todo', 'te', 'era', 'ya', 'sino', 'cuando', 'dos', \n",
    "                 'donde', 'fue', 'este', 'quien', 'esta', 'pero',\n",
    "                 'qué', 'cual', 'muy', 'he', 'aunque', 'esto', 'así',\n",
    "                 'aquel', 'hacer', 'os', 'son', 'nos', 'sobre', 'hay', \n",
    "                 'ella', 'está', 'pues', 'mal', 'así,', 'mí', 'otro', 'mis',\n",
    "                 'hasta', 'tal', 'estaba', 'ver', 'allí', 'sé', 'entre', \n",
    "                 'dar', 'han', 'tanto', 'les', 'tengo', 'todas', 'tu', \n",
    "                 'esto,', 'aquella', 'uno', 'tenía', 'luego', 'algún', \n",
    "                 'soy', 'fuera', 'ahora', 'haber', 'otras',  \n",
    "                 'habían', 'aun', 'mucho', 'tener', 'estas', 'antes', \n",
    "                 'sea', 'ellos', 'cuanto', 'cada', \n",
    "                 'otros', 'tres', 'será', 'estos', 'hizo', 'también', \n",
    "                 'mesmo', 'hecho', 'sí', 'tú', 'podía', 'nuestro',\n",
    "                 'debe', 'mucha', 'cómo', 'sólo', 'eran', 'después'}"
   ]
  },
  {
   "cell_type": "code",
   "execution_count": null,
   "metadata": {
    "slideshow": {
     "slide_type": "slide"
    }
   },
   "outputs": [],
   "source": [
    "from collections import Counter\n",
    "cuenta_quixote = Counter()\n",
    "punct_table = str.maketrans(\".,\\\"-:;?¿!¡‹›«»\", \"              \")\n",
    "\n",
    "def tokenize(línea):\n",
    "    palabras = [palabra.strip() for palabra in línea.split() \n",
    "             if palabra.strip() not in palabras_vacías]\n",
    "    return palabras\n",
    "\n",
    "@normalizar\n",
    "def limpiar(línea):\n",
    "    línea =  línea.strip()\n",
    "    return línea.translate(punct_table)\n",
    "\n",
    "\n",
    "with open(\"quixote_texto.txt\") as quixote:\n",
    "    for línea in quixote:\n",
    "        línea = limpiar(línea)\n",
    "        tokens = tokenize(línea)\n",
    "        cuenta_quixote.update(tokens)"
   ]
  },
  {
   "cell_type": "code",
   "execution_count": null,
   "metadata": {
    "scrolled": true,
    "slideshow": {
     "slide_type": "slide"
    }
   },
   "outputs": [],
   "source": [
    "print(cuenta_quixote.most_common(100))"
   ]
  },
  {
   "cell_type": "code",
   "execution_count": null,
   "metadata": {
    "scrolled": true,
    "slideshow": {
     "slide_type": "slide"
    }
   },
   "outputs": [],
   "source": [
    "print(cuenta_quixote.most_common()[-200:])"
   ]
  },
  {
   "cell_type": "markdown",
   "metadata": {
    "nbpresent": {
     "id": "a58156c7-8378-42b9-b05f-edc02674c066"
    },
    "slideshow": {
     "slide_type": "slide"
    }
   },
   "source": [
    "## La limpieza de texto con las expresiones regulares \n",
    "\n",
    "   ‘Some people, when confronted with a problem, think \"I know, I'll use regular expressions.\" Now they have two problems’ - Jamie Zawiski\n",
    "   \n",
    "   *Algunos, cuanto enfrentan un problema, piensan, \"lo tengo - voy a usar expresiones regulares.\" Y ahora tienen dos problemas...*\n",
    "   \n",
    "* regular expressions - https://docs.python.org/3/howto/regex.html\n"
   ]
  },
  {
   "cell_type": "code",
   "execution_count": null,
   "metadata": {
    "slideshow": {
     "slide_type": "slide"
    }
   },
   "outputs": [],
   "source": [
    "import re\n",
    "\n",
    "cuenta_quixote = Counter()\n",
    "re_palabra = re.compile(\"\\w+|\\w+-\\w+\")\n",
    "\n",
    "\n",
    "def tokenize(línea):\n",
    "\n",
    "    palabras = [\n",
    "        palabra\n",
    "        for palabra in re_palabra.findall(línea)\n",
    "        if palabra not in palabras_vacías\n",
    "    ]\n",
    "    return palabras\n",
    "\n",
    "\n",
    "@normalizar\n",
    "def limpiar(línea):\n",
    "    línea = línea.strip()\n",
    "    # return línea.translate(punct_table)\n",
    "    return línea\n",
    "\n",
    "\n",
    "with open(\"quixote_texto.txt\") as quixote:\n",
    "    for línea in quixote:\n",
    "        línea = limpiar(línea)\n",
    "        tokens = tokenize(línea)\n",
    "        cuenta_quixote.update(tokens)"
   ]
  },
  {
   "cell_type": "code",
   "execution_count": null,
   "metadata": {
    "scrolled": true,
    "slideshow": {
     "slide_type": "slide"
    }
   },
   "outputs": [],
   "source": [
    "print(cuenta_quixote.most_common(100))"
   ]
  },
  {
   "cell_type": "code",
   "execution_count": null,
   "metadata": {
    "scrolled": true,
    "slideshow": {
     "slide_type": "slide"
    }
   },
   "outputs": [],
   "source": [
    "print(cuenta_quixote.most_common()[-200:])"
   ]
  },
  {
   "cell_type": "markdown",
   "metadata": {
    "nbpresent": {
     "id": "a58156c7-8378-42b9-b05f-edc02674c066"
    },
    "slideshow": {
     "slide_type": "slide"
    }
   },
   "source": [
    "## Expresiones regulares precompiladas\n",
    "\n",
    "Las expresiones precompiladas son (más o menos) 10% más rápidas... \n"
   ]
  },
  {
   "cell_type": "code",
   "execution_count": null,
   "metadata": {
    "slideshow": {
     "slide_type": "slide"
    }
   },
   "outputs": [],
   "source": [
    "re_palabra = re.compile(\"\\w+|\\w+-\\w+\")\n",
    "\n",
    "def tokenize(línea):\n",
    "    \n",
    "    palabras = [palabra for palabra in re_palabra.findall(línea) \n",
    "             if palabra not in palabras_vacías]\n",
    "    return palabras\n",
    "\n",
    "\n",
    "def tokenize2(línea):\n",
    "    \n",
    "    palabras = [palabra for palabra in re.findall(\"\\w+|\\w+-\\w+\", línea) \n",
    "             if palabra not in stop_word_set]\n",
    "    return palabras\n",
    "\n",
    "\n",
    "def test_tokenize():\n",
    "    with open(\"quixote_texto.txt\") as quixote:\n",
    "        for línea in quixote:\n",
    "            tokens = tokenize(línea)\n",
    "            \n",
    "def test_tokenize2():\n",
    "    with open(\"quixote_texto.txt\") as quixote:\n",
    "        for línea in quixote:\n",
    "            tokens = tokenize2(línea)\n",
    "        \n",
    "%timeit test_tokenize()\n",
    "%timeit test_tokenize2()"
   ]
  },
  {
   "cell_type": "markdown",
   "metadata": {
    "slideshow": {
     "slide_type": "slide"
    }
   },
   "source": [
    "### Nivel más alto - NLP (TALN)\n",
    "* NLTK (Natural Language Toolkit)\n",
    "* tokenize\n",
    "* stemming - devolver la raíz de la palabra "
   ]
  },
  {
   "cell_type": "code",
   "execution_count": null,
   "metadata": {
    "slideshow": {
     "slide_type": "slide"
    }
   },
   "outputs": [],
   "source": [
    "from collections import Counter\n",
    "cuenta_quixote = Counter()\n",
    "\n",
    "from nltk.tokenize import word_tokenize\n",
    "from nltk.stem import SnowballStemmer\n",
    "\n",
    "stemmer_spanish = SnowballStemmer('spanish')\n",
    "\n",
    "def tokenize(línea):\n",
    "    palabras = [palabra for palabra in word_tokenize(línea, language='spanish') if palabra not in palabras_vacías]\n",
    "    palabras = [stemmer_spanish.stem(palabra) for palabra in palabras]\n",
    "    return palabras\n",
    "\n",
    "@normalizar\n",
    "def limpiar(línea):\n",
    "    línea = línea.strip()\n",
    "    línea = línea.translate(punct_table)\n",
    "    return línea\n",
    "\n",
    "with open(\"quixote_texto.txt\") as quixote:\n",
    "    for línea in quixote:\n",
    "        línea = limpiar(línea)\n",
    "        tokens = tokenize(línea)\n",
    "        cuenta_quixote.update(tokens)\n"
   ]
  },
  {
   "cell_type": "code",
   "execution_count": null,
   "metadata": {},
   "outputs": [],
   "source": [
    "with open(\"quixote_texto.txt\") as quixote:\n",
    "    counter = 0\n",
    "    for línea in quixote:\n",
    "        línea = limpiar(línea)\n",
    "        print(línea)\n",
    "        print(tokenize(línea))\n",
    "        counter += 1\n",
    "        if counter > 20:\n",
    "            break\n"
   ]
  },
  {
   "cell_type": "code",
   "execution_count": null,
   "metadata": {
    "slideshow": {
     "slide_type": "slide"
    }
   },
   "outputs": [],
   "source": [
    "print(cuenta_quixote.most_common(100))"
   ]
  },
  {
   "cell_type": "code",
   "execution_count": null,
   "metadata": {
    "scrolled": false,
    "slideshow": {
     "slide_type": "slide"
    }
   },
   "outputs": [],
   "source": [
    "print(cuenta_quixote.most_common()[-200:])"
   ]
  },
  {
   "cell_type": "markdown",
   "metadata": {
    "slideshow": {
     "slide_type": "slide"
    }
   },
   "source": [
    "## Las técnicas\n",
    "\n",
    "* Usa los métodos de cadenas - str.translate, lower(), etc\n",
    "* Los conjuntos (sets) - son los más rápidos con `in`\n",
    "* Usa funciones - códico comun debe ponerse en funciones\n",
    "* Los decorators - útil para funciones que apoyan a otras funciones\n",
    "* Usa las comprensiones para filtrar\n",
    "* Las expresiones regulares - más potentes, pero más lentas\n"
   ]
  },
  {
   "cell_type": "markdown",
   "metadata": {
    "slideshow": {
     "slide_type": "slide"
    }
   },
   "source": [
    "## Los aprendizajes\n",
    "\n",
    "* Empieza con lo simple\n",
    "* Toma en cuenta el propósito\n",
    "* Haz las comprobaciones de sanidad frecuentes\n",
    "* Limpiar los datos es destruir información, hazlo con cuidado\n"
   ]
  }
 ],
 "metadata": {
  "celltoolbar": "Slideshow",
  "kernelspec": {
   "display_name": "Python 3",
   "language": "python",
   "name": "python3"
  },
  "language_info": {
   "codemirror_mode": {
    "name": "ipython",
    "version": 3
   },
   "file_extension": ".py",
   "mimetype": "text/x-python",
   "name": "python",
   "nbconvert_exporter": "python",
   "pygments_lexer": "ipython3",
   "version": "3.6.4"
  },
  "livereveal": {
   "scroll": true,
   "start_slideshow_at": "selected",
   "transition": "none"
  },
  "nbpresent": {
   "slides": {
    "16fa30ee-1d7e-4f43-8365-3994b6ed36a8": {
     "id": "16fa30ee-1d7e-4f43-8365-3994b6ed36a8",
     "prev": "2bb83e06-39b5-4e33-86c6-1dfd5fca6c30",
     "regions": {
      "7a284399-8ba1-44d2-a414-f1f7ed045a81": {
       "attrs": {
        "height": 0.4,
        "width": 0.8,
        "x": 0.1,
        "y": 0.5
       },
       "content": {
        "cell": "9b164dc6-c050-4577-94a1-008abe094762",
        "part": "whole"
       },
       "id": "7a284399-8ba1-44d2-a414-f1f7ed045a81"
      },
      "ae912645-78b0-4103-888a-57c7c053f85a": {
       "attrs": {
        "height": 0.8,
        "width": 0.8,
        "x": 0.1,
        "y": 0.1
       },
       "content": {
        "cell": "9f76d53b-d0f8-4bfc-af42-a26ebf252826",
        "part": "whole"
       },
       "id": "ae912645-78b0-4103-888a-57c7c053f85a"
      },
      "ea333b90-9bec-4680-8f52-5d567d5a5b11": {
       "attrs": {
        "height": 0.4,
        "width": 0.8,
        "x": 0.1,
        "y": 0.5
       },
       "content": {
        "cell": "6545282f-ccba-4d6d-9f4e-df39b58cf55a",
        "part": "whole"
       },
       "id": "ea333b90-9bec-4680-8f52-5d567d5a5b11"
      }
     }
    },
    "1cca9be6-223a-4a5b-9707-c9f192485ab9": {
     "id": "1cca9be6-223a-4a5b-9707-c9f192485ab9",
     "prev": "5956f6ec-fa48-4408-a0d0-b400ebdf7c74",
     "regions": {
      "08bb1fde-08c9-4d9d-87a0-9dfbcf368ceb": {
       "attrs": {
        "height": 0.8,
        "width": 0.8,
        "x": 0.1,
        "y": 0.1
       },
       "content": {
        "cell": "c55fd0b6-61f6-44ef-b90e-254adccefb6b",
        "part": "whole"
       },
       "id": "08bb1fde-08c9-4d9d-87a0-9dfbcf368ceb"
      },
      "1ce204ad-2b0a-4c6e-a192-934945b2f900": {
       "attrs": {
        "height": 0.4,
        "width": 0.8,
        "x": 0.1,
        "y": 0.5
       },
       "content": {
        "cell": "cca27bf6-5f61-46a7-bb21-e5759ea6981d",
        "part": "whole"
       },
       "id": "1ce204ad-2b0a-4c6e-a192-934945b2f900"
      },
      "632b6b63-2b29-475d-90a5-c5bafef46831": {
       "attrs": {
        "height": 0.4,
        "width": 0.8,
        "x": 0.1,
        "y": 0.5
       },
       "content": {
        "cell": "2434938b-ccb3-47f4-a5f3-21ecf43c23f9",
        "part": "whole"
       },
       "id": "632b6b63-2b29-475d-90a5-c5bafef46831"
      }
     }
    },
    "2271af5b-13e3-41ba-bca0-1eabb3d29814": {
     "id": "2271af5b-13e3-41ba-bca0-1eabb3d29814",
     "prev": null,
     "regions": {
      "99631131-5bdc-4fa0-a464-4659b3c109d0": {
       "attrs": {
        "height": 0.8,
        "width": 0.8,
        "x": 0.1,
        "y": 0.1
       },
       "content": {
        "cell": "26b3b9ad-6a1d-474b-8f6c-40acd315151a",
        "part": "whole"
       },
       "id": "99631131-5bdc-4fa0-a464-4659b3c109d0"
      }
     }
    },
    "2b0e9ac9-aade-4454-b430-35240525f60f": {
     "id": "2b0e9ac9-aade-4454-b430-35240525f60f",
     "prev": "fd14396f-871d-4acc-8bc7-0b5318ba394a",
     "regions": {
      "d5dfcaaf-2c1e-4787-92c0-8a147ae14c5d": {
       "attrs": {
        "height": 0.8,
        "width": 0.8,
        "x": 0.1,
        "y": 0.1
       },
       "content": {
        "cell": "ec3c0175-88c7-4162-8236-2b24993de91f",
        "part": "whole"
       },
       "id": "d5dfcaaf-2c1e-4787-92c0-8a147ae14c5d"
      }
     }
    },
    "2bb83e06-39b5-4e33-86c6-1dfd5fca6c30": {
     "id": "2bb83e06-39b5-4e33-86c6-1dfd5fca6c30",
     "prev": "8a36bdbb-f784-456c-9c16-aa88631e0226",
     "regions": {
      "0e7f7b42-07a6-4e4d-b997-2bf0f9af2713": {
       "attrs": {
        "height": 0.8,
        "width": 0.8,
        "x": 0.1,
        "y": 0.1
       },
       "content": {
        "cell": "855fc1b2-1ef8-4703-88ea-05c8d5a5fb67",
        "part": "whole"
       },
       "id": "0e7f7b42-07a6-4e4d-b997-2bf0f9af2713"
      }
     }
    },
    "3713f2d9-f7fb-45ee-b9c7-f54435c791e2": {
     "id": "3713f2d9-f7fb-45ee-b9c7-f54435c791e2",
     "prev": "8abe55f1-aeb9-4f3b-9647-826c3c5c5eb8",
     "regions": {
      "6d213c8a-2e39-4ddc-b318-1377dbf3cebf": {
       "attrs": {
        "height": 0.4,
        "width": 0.8,
        "x": 0.1,
        "y": 0.5
       },
       "content": {
        "cell": "f0f51b1e-32fa-4f49-8f9c-08ae6d1d8594",
        "part": "whole"
       },
       "id": "6d213c8a-2e39-4ddc-b318-1377dbf3cebf"
      },
      "c41ae2cf-4cc5-41c5-899c-c02a0cc41ece": {
       "attrs": {
        "height": 0.8,
        "width": 0.8,
        "x": 0.1,
        "y": 0.1
       },
       "content": {
        "cell": "cbdb2153-4119-4d75-ab38-eb2d96c75126",
        "part": "whole"
       },
       "id": "c41ae2cf-4cc5-41c5-899c-c02a0cc41ece"
      }
     }
    },
    "4711fc1f-0094-4dcf-81f2-cff55054acc3": {
     "id": "4711fc1f-0094-4dcf-81f2-cff55054acc3",
     "prev": "c12efa03-d7cc-4b62-bb40-af27fa139fbb",
     "regions": {
      "aa9fbdef-534e-4087-9184-cdd3b737efa5": {
       "attrs": {
        "height": 0.8,
        "width": 0.8,
        "x": 0.1,
        "y": 0.1
       },
       "content": {
        "cell": "2473fb9f-590d-4776-80a5-efee83edf680",
        "part": "whole"
       },
       "id": "aa9fbdef-534e-4087-9184-cdd3b737efa5"
      }
     }
    },
    "4cab0740-2171-470e-9e99-b5c208a46636": {
     "id": "4cab0740-2171-470e-9e99-b5c208a46636",
     "prev": "2271af5b-13e3-41ba-bca0-1eabb3d29814",
     "regions": {
      "f22d4f46-139f-4f7c-adf8-51a81d8159ae": {
       "attrs": {
        "height": 0.8,
        "width": 0.8,
        "x": 0.1,
        "y": 0.1
       },
       "content": {
        "cell": "57cfcf5b-27d3-4711-b915-6ccfad966136",
        "part": "whole"
       },
       "id": "f22d4f46-139f-4f7c-adf8-51a81d8159ae"
      }
     }
    },
    "4fc2f5c6-f0a7-4acc-a94e-9cf57c7bd2c8": {
     "id": "4fc2f5c6-f0a7-4acc-a94e-9cf57c7bd2c8",
     "prev": "f45f4adf-9269-4537-896d-2a4da0c01289",
     "regions": {
      "18c98fb3-0f95-4f9c-8bf2-00bb5ac3d66b": {
       "attrs": {
        "height": 0.4,
        "width": 0.8,
        "x": 0.1,
        "y": 0.5
       },
       "content": {
        "cell": "c42e83a7-df66-4d2d-a1df-c75e2c1f624e",
        "part": "whole"
       },
       "id": "18c98fb3-0f95-4f9c-8bf2-00bb5ac3d66b"
      },
      "20813141-8324-4d51-b413-db698660150d": {
       "attrs": {
        "height": 0.4,
        "width": 0.8,
        "x": 0.1,
        "y": 0.5
       },
       "content": {
        "cell": "090c6c48-6c1a-4935-a04f-db2ac240f166",
        "part": "whole"
       },
       "id": "20813141-8324-4d51-b413-db698660150d"
      },
      "24536391-3528-43e8-a743-831cb3804038": {
       "attrs": {
        "height": 0.4,
        "width": 0.8,
        "x": 0.1,
        "y": 0.5
       },
       "content": {
        "cell": "ee172c6b-3420-4ffc-b39a-f5272cd4c886",
        "part": "whole"
       },
       "id": "24536391-3528-43e8-a743-831cb3804038"
      },
      "3881f557-46f5-4b46-96d1-2e1ddcb98d4e": {
       "attrs": {
        "height": 0.4,
        "width": 0.8,
        "x": 0.1,
        "y": 0.5
       },
       "content": {
        "cell": "e401e860-8472-4fe9-9627-2c3ca0ff9166",
        "part": "whole"
       },
       "id": "3881f557-46f5-4b46-96d1-2e1ddcb98d4e"
      },
      "3bfeee05-c5a3-4996-89b9-a40618b86628": {
       "attrs": {
        "height": 0.4,
        "width": 0.8,
        "x": 0.1,
        "y": 0.5
       },
       "content": {
        "cell": "7ee12f08-e052-4fd9-bccf-56a8dcb59045",
        "part": "whole"
       },
       "id": "3bfeee05-c5a3-4996-89b9-a40618b86628"
      },
      "53fe6a5f-c6c3-46ae-9190-7374d5691a0c": {
       "attrs": {
        "height": 0.4,
        "width": 0.8,
        "x": 0.1,
        "y": 0.5
       },
       "content": {
        "cell": "9a80d0eb-1430-4077-b413-362fdd14fa37",
        "part": "whole"
       },
       "id": "53fe6a5f-c6c3-46ae-9190-7374d5691a0c"
      },
      "576b8041-2fd3-41fd-af34-fb6efba583ee": {
       "attrs": {
        "height": 0.4,
        "width": 0.8,
        "x": 0.1,
        "y": 0.5
       },
       "content": {
        "cell": "e8e54e66-8897-4837-a1bc-b8919cc3e4af",
        "part": "whole"
       },
       "id": "576b8041-2fd3-41fd-af34-fb6efba583ee"
      },
      "58593b46-d3ca-4262-b83d-f7475d3ebdd6": {
       "attrs": {
        "height": 0.4,
        "width": 0.8,
        "x": 0.1,
        "y": 0.5
       },
       "content": {
        "cell": "b70999ef-371c-47f8-b617-dd5e4fd4b23f",
        "part": "whole"
       },
       "id": "58593b46-d3ca-4262-b83d-f7475d3ebdd6"
      },
      "6221e80e-3348-49e2-8855-117939496fbf": {
       "attrs": {
        "height": 0.4,
        "width": 0.8,
        "x": 0.1,
        "y": 0.5
       },
       "content": {
        "cell": "efd64576-0af8-4206-85b4-deefc6a3332a",
        "part": "whole"
       },
       "id": "6221e80e-3348-49e2-8855-117939496fbf"
      },
      "66297336-7886-44fd-b710-368996df6224": {
       "attrs": {
        "height": 0.4,
        "width": 0.8,
        "x": 0.1,
        "y": 0.5
       },
       "content": {
        "cell": "8a2d3988-8dc4-443e-9e71-75e33809d53b",
        "part": "whole"
       },
       "id": "66297336-7886-44fd-b710-368996df6224"
      },
      "6ff8b1b4-9154-4199-84fa-33f9d968281a": {
       "attrs": {
        "height": 0.4,
        "width": 0.8,
        "x": 0.1,
        "y": 0.5
       },
       "content": {
        "cell": "8e4a498c-06d0-4faa-9f67-34d9500963a2",
        "part": "whole"
       },
       "id": "6ff8b1b4-9154-4199-84fa-33f9d968281a"
      },
      "83c98357-157e-4a1f-a76f-d0b396306d4f": {
       "attrs": {
        "height": 0.4,
        "width": 0.8,
        "x": 0.1,
        "y": 0.5
       },
       "content": {
        "cell": "95a06dd6-07a2-423a-929c-aa1b046c1b11",
        "part": "whole"
       },
       "id": "83c98357-157e-4a1f-a76f-d0b396306d4f"
      },
      "89109a43-a125-4b4e-b8e8-71cabc620fa0": {
       "attrs": {
        "height": 0.4,
        "width": 0.8,
        "x": 0.1,
        "y": 0.5
       },
       "content": {
        "cell": "f3c1746e-4236-45e4-9849-55133d08c7e3",
        "part": "whole"
       },
       "id": "89109a43-a125-4b4e-b8e8-71cabc620fa0"
      },
      "8a4b5f61-77a1-4a39-85d1-5e4135bff9b6": {
       "attrs": {
        "height": 0.8,
        "width": 0.8,
        "x": 0.1,
        "y": 0.1
       },
       "content": {
        "cell": "256f1747-2548-47b6-97e2-051d435a0f53",
        "part": "whole"
       },
       "id": "8a4b5f61-77a1-4a39-85d1-5e4135bff9b6"
      },
      "98659134-0c83-4e95-b77e-cc88510a3d5f": {
       "attrs": {
        "height": 0.4,
        "width": 0.8,
        "x": 0.1,
        "y": 0.5
       },
       "content": {
        "cell": "1f2dceeb-f08f-4894-8433-260956e571f2",
        "part": "whole"
       },
       "id": "98659134-0c83-4e95-b77e-cc88510a3d5f"
      },
      "c24d551b-1015-4985-ba39-09a0486542cd": {
       "attrs": {
        "height": 0.4,
        "width": 0.8,
        "x": 0.1,
        "y": 0.5
       },
       "content": {
        "cell": "a50f85b8-a51a-4555-802d-0d0822a59ad3",
        "part": "whole"
       },
       "id": "c24d551b-1015-4985-ba39-09a0486542cd"
      },
      "c2f27365-353d-4f5c-917b-c1d2a020083b": {
       "attrs": {
        "height": 0.4,
        "width": 0.8,
        "x": 0.1,
        "y": 0.5
       },
       "content": {
        "cell": "f3318c2a-024f-4294-af42-8062b373c241",
        "part": "whole"
       },
       "id": "c2f27365-353d-4f5c-917b-c1d2a020083b"
      },
      "d5067ccb-aea2-4f92-9e26-330dd4feb846": {
       "attrs": {
        "height": 0.4,
        "width": 0.8,
        "x": 0.1,
        "y": 0.5
       },
       "content": {
        "cell": "ca54d50c-3369-4261-bfcf-74f61538303e",
        "part": "whole"
       },
       "id": "d5067ccb-aea2-4f92-9e26-330dd4feb846"
      },
      "d63be773-c8c2-49d4-a849-3494dffc8fff": {
       "attrs": {
        "height": 0.4,
        "width": 0.8,
        "x": 0.1,
        "y": 0.5
       },
       "content": {
        "cell": "1cefab28-c321-423f-bbc3-8bc4018fb849",
        "part": "whole"
       },
       "id": "d63be773-c8c2-49d4-a849-3494dffc8fff"
      },
      "dca4e698-a1a3-44fb-915a-3a83cf836c45": {
       "attrs": {
        "height": 0.4,
        "width": 0.8,
        "x": 0.1,
        "y": 0.5
       },
       "content": {
        "cell": "a58156c7-8378-42b9-b05f-edc02674c066",
        "part": "whole"
       },
       "id": "dca4e698-a1a3-44fb-915a-3a83cf836c45"
      },
      "fcf73e01-ac73-49f3-88b5-8d2d9bd619b0": {
       "attrs": {
        "height": 0.4,
        "width": 0.8,
        "x": 0.1,
        "y": 0.5
       },
       "content": {
        "cell": "31e0a3fe-eedb-4467-8a34-a573daccc81f",
        "part": "whole"
       },
       "id": "fcf73e01-ac73-49f3-88b5-8d2d9bd619b0"
      },
      "fd16cd8d-0994-4db4-9703-7cf3383db640": {
       "attrs": {
        "height": 0.4,
        "width": 0.8,
        "x": 0.1,
        "y": 0.5
       },
       "content": {
        "cell": "191ab12e-9042-48dd-88b5-786615ea198d",
        "part": "whole"
       },
       "id": "fd16cd8d-0994-4db4-9703-7cf3383db640"
      }
     }
    },
    "5956f6ec-fa48-4408-a0d0-b400ebdf7c74": {
     "id": "5956f6ec-fa48-4408-a0d0-b400ebdf7c74",
     "prev": "81c6a365-dba6-437b-998a-acfa38fa7eb2",
     "regions": {
      "40efe847-64ac-41df-957b-01a13f8b9963": {
       "attrs": {
        "height": 0.8,
        "width": 0.8,
        "x": 0.1,
        "y": 0.1
       },
       "content": {
        "cell": "d52073c0-a871-4bed-aab5-77f0514d8031",
        "part": "whole"
       },
       "id": "40efe847-64ac-41df-957b-01a13f8b9963"
      },
      "d8b22093-e9b2-482b-a452-988b71602f7c": {
       "attrs": {
        "height": 0.4,
        "width": 0.8,
        "x": 0.1,
        "y": 0.5
       },
       "content": {
        "cell": "d89f0121-0c7c-4b75-8807-b4707ae468f0",
        "part": "whole"
       },
       "id": "d8b22093-e9b2-482b-a452-988b71602f7c"
      }
     }
    },
    "81c6a365-dba6-437b-998a-acfa38fa7eb2": {
     "id": "81c6a365-dba6-437b-998a-acfa38fa7eb2",
     "prev": "4cab0740-2171-470e-9e99-b5c208a46636",
     "regions": {
      "d9b320a4-9290-452a-988a-ad49c7ab9d69": {
       "attrs": {
        "height": 0.8,
        "width": 0.8,
        "x": 0.1,
        "y": 0.1
       },
       "content": {
        "cell": "44b6aa0a-4f02-42b2-8aa1-40370671ff15",
        "part": "whole"
       },
       "id": "d9b320a4-9290-452a-988a-ad49c7ab9d69"
      }
     }
    },
    "822a9439-4fd8-43b4-8faa-7fd7a4889424": {
     "id": "822a9439-4fd8-43b4-8faa-7fd7a4889424",
     "prev": "f094fd9f-677b-461e-a9f4-c1514c4974e9",
     "regions": {
      "95d4e86b-51d8-4d43-9ea9-92d76ce78d3b": {
       "attrs": {
        "height": 0.8,
        "width": 0.8,
        "x": 0.1,
        "y": 0.1
       },
       "content": {
        "cell": "adecdecf-3fae-4cbe-924a-f771e1472170",
        "part": "whole"
       },
       "id": "95d4e86b-51d8-4d43-9ea9-92d76ce78d3b"
      }
     }
    },
    "8a36bdbb-f784-456c-9c16-aa88631e0226": {
     "id": "8a36bdbb-f784-456c-9c16-aa88631e0226",
     "prev": "822a9439-4fd8-43b4-8faa-7fd7a4889424",
     "regions": {
      "ceb58d0c-5256-4b9f-b2ca-82ea6ca3dfb3": {
       "attrs": {
        "height": 0.8,
        "width": 0.8,
        "x": 0.1,
        "y": 0.1
       },
       "content": {
        "cell": "ea818d06-7843-49d1-8f41-c72400fcb45c",
        "part": "whole"
       },
       "id": "ceb58d0c-5256-4b9f-b2ca-82ea6ca3dfb3"
      }
     }
    },
    "8abe55f1-aeb9-4f3b-9647-826c3c5c5eb8": {
     "id": "8abe55f1-aeb9-4f3b-9647-826c3c5c5eb8",
     "prev": "16fa30ee-1d7e-4f43-8365-3994b6ed36a8",
     "regions": {
      "5883ca9e-a41e-4a67-a30e-41f04e672f09": {
       "attrs": {
        "height": 0.4,
        "width": 0.8,
        "x": 0.1,
        "y": 0.5
       },
       "content": {
        "cell": "7e7e0d3c-2a00-4e2d-8981-ace7238f0b97",
        "part": "whole"
       },
       "id": "5883ca9e-a41e-4a67-a30e-41f04e672f09"
      },
      "c0a83654-bc17-4e8c-96e3-858c8d695561": {
       "attrs": {
        "height": 0.8,
        "width": 0.8,
        "x": 0.1,
        "y": 0.1
       },
       "content": {
        "cell": "7dd1ca3f-a372-4072-9857-94ddbbc9ae03",
        "part": "whole"
       },
       "id": "c0a83654-bc17-4e8c-96e3-858c8d695561"
      }
     }
    },
    "aeb6875a-4ea0-45ab-abdb-2cf4daf7ad9a": {
     "id": "aeb6875a-4ea0-45ab-abdb-2cf4daf7ad9a",
     "prev": "3713f2d9-f7fb-45ee-b9c7-f54435c791e2",
     "regions": {
      "da27c6dc-1026-4e8e-8d22-fb3dea23b0e7": {
       "attrs": {
        "height": 0.8,
        "width": 0.8,
        "x": 0.1,
        "y": 0.1
       },
       "content": {
        "cell": "db66e259-97ad-42ef-a9d4-7edb1f40ab9d",
        "part": "whole"
       },
       "id": "da27c6dc-1026-4e8e-8d22-fb3dea23b0e7"
      }
     }
    },
    "b72164a6-d71e-401c-8802-bddaad80f904": {
     "id": "b72164a6-d71e-401c-8802-bddaad80f904",
     "prev": "2b0e9ac9-aade-4454-b430-35240525f60f",
     "regions": {
      "ae7f55d3-977b-4869-b73b-adcde2189c7c": {
       "attrs": {
        "height": 0.8,
        "width": 0.8,
        "x": 0.1,
        "y": 0.1
       },
       "content": {
        "cell": "0b906ef0-cb14-4024-b76c-57cc10b7c6ec",
        "part": "whole"
       },
       "id": "ae7f55d3-977b-4869-b73b-adcde2189c7c"
      }
     }
    },
    "c12efa03-d7cc-4b62-bb40-af27fa139fbb": {
     "id": "c12efa03-d7cc-4b62-bb40-af27fa139fbb",
     "prev": "b72164a6-d71e-401c-8802-bddaad80f904",
     "regions": {
      "e64b9133-8ec2-47c9-b6dd-d5ca31620485": {
       "attrs": {
        "height": 0.8,
        "width": 0.8,
        "x": 0.1,
        "y": 0.1
       },
       "content": {
        "cell": "142cbc80-7592-4584-bebe-b56b5767fa9f",
        "part": "whole"
       },
       "id": "e64b9133-8ec2-47c9-b6dd-d5ca31620485"
      }
     }
    },
    "dc8bd225-4da4-4a36-888a-63345625cfac": {
     "id": "dc8bd225-4da4-4a36-888a-63345625cfac",
     "prev": "e4b6904d-f2df-4928-bed7-38d942ebf43d",
     "regions": {
      "58717af3-8936-4361-b91a-f08fe4ac5b9f": {
       "attrs": {
        "height": 0.8,
        "width": 0.8,
        "x": 0.1,
        "y": 0.1
       },
       "content": {
        "cell": "caba240f-096b-4ab7-8695-ffd9ab9587d8",
        "part": "whole"
       },
       "id": "58717af3-8936-4361-b91a-f08fe4ac5b9f"
      }
     }
    },
    "dd65f256-4375-428d-8c7c-1336ffa82e51": {
     "id": "dd65f256-4375-428d-8c7c-1336ffa82e51",
     "prev": "f8f80794-864a-4440-9310-50b7d4ff2a38",
     "regions": {
      "52383c01-8be2-48a9-bf0c-d9e4ffbd5b02": {
       "attrs": {
        "height": 0.8,
        "width": 0.8,
        "x": 0.1,
        "y": 0.1
       },
       "content": {
        "cell": "8d8c0abd-8dee-47c3-91be-b8c1d712a6a0",
        "part": "whole"
       },
       "id": "52383c01-8be2-48a9-bf0c-d9e4ffbd5b02"
      }
     }
    },
    "e4b6904d-f2df-4928-bed7-38d942ebf43d": {
     "id": "e4b6904d-f2df-4928-bed7-38d942ebf43d",
     "prev": "f2e7b630-0d95-407c-8e98-744d36c56952",
     "regions": {
      "be607cc3-f26d-4610-84f6-0e279a1bc4ac": {
       "attrs": {
        "height": 0.8,
        "width": 0.8,
        "x": 0.1,
        "y": 0.1
       },
       "content": {
        "cell": "7638f572-4bae-4b96-adb0-1fae64570d7e",
        "part": "whole"
       },
       "id": "be607cc3-f26d-4610-84f6-0e279a1bc4ac"
      }
     }
    },
    "f094fd9f-677b-461e-a9f4-c1514c4974e9": {
     "id": "f094fd9f-677b-461e-a9f4-c1514c4974e9",
     "prev": "dc8bd225-4da4-4a36-888a-63345625cfac",
     "regions": {
      "8fab4ad5-5396-4f4d-8af7-f1879b6b8e1e": {
       "attrs": {
        "height": 0.8,
        "width": 0.8,
        "x": 0.1,
        "y": 0.1
       },
       "content": {
        "cell": "b87321af-d1fb-4087-b1c1-3416ddc3e825",
        "part": "whole"
       },
       "id": "8fab4ad5-5396-4f4d-8af7-f1879b6b8e1e"
      }
     }
    },
    "f2e7b630-0d95-407c-8e98-744d36c56952": {
     "id": "f2e7b630-0d95-407c-8e98-744d36c56952",
     "prev": "1cca9be6-223a-4a5b-9707-c9f192485ab9",
     "regions": {
      "a4dfda0d-382a-4bf1-9f84-2c8b34387f8e": {
       "attrs": {
        "height": 0.8,
        "width": 0.8,
        "x": 0.1,
        "y": 0.1
       },
       "content": {
        "cell": "7c0509c4-3df6-4249-87d6-8b033b3657ee",
        "part": "whole"
       },
       "id": "a4dfda0d-382a-4bf1-9f84-2c8b34387f8e"
      },
      "a57128af-9b92-4741-b61f-cc4cdae5b36b": {
       "attrs": {
        "height": 0.4,
        "width": 0.8,
        "x": 0.1,
        "y": 0.5
       },
       "content": {
        "cell": "dedbb0df-23b8-429b-aa79-a5ddbac3a40c",
        "part": "whole"
       },
       "id": "a57128af-9b92-4741-b61f-cc4cdae5b36b"
      },
      "ab48348e-6ba8-4a9d-982b-fc757779c7ee": {
       "attrs": {
        "height": 0.4,
        "width": 0.8,
        "x": 0.1,
        "y": 0.5
       },
       "content": {
        "cell": "3d29f057-eb27-41a6-902d-78c33d4769f7",
        "part": "whole"
       },
       "id": "ab48348e-6ba8-4a9d-982b-fc757779c7ee"
      }
     }
    },
    "f45f4adf-9269-4537-896d-2a4da0c01289": {
     "id": "f45f4adf-9269-4537-896d-2a4da0c01289",
     "prev": "aeb6875a-4ea0-45ab-abdb-2cf4daf7ad9a",
     "regions": {
      "81efb807-e109-45e8-9ddf-30eb49c89e24": {
       "attrs": {
        "height": 0.8,
        "width": 0.8,
        "x": 0.1,
        "y": 0.1
       },
       "content": {
        "cell": "14ff4504-1e30-4a47-8d6d-b514a9eb6869",
        "part": "whole"
       },
       "id": "81efb807-e109-45e8-9ddf-30eb49c89e24"
      }
     }
    },
    "f8f80794-864a-4440-9310-50b7d4ff2a38": {
     "id": "f8f80794-864a-4440-9310-50b7d4ff2a38",
     "prev": "4fc2f5c6-f0a7-4acc-a94e-9cf57c7bd2c8",
     "regions": {
      "dfb2e548-c607-4ae8-8f1e-e0ebc696986d": {
       "attrs": {
        "height": 0.8,
        "width": 0.8,
        "x": 0.1,
        "y": 0.1
       },
       "content": {
        "cell": "92b85c3a-29de-4cd2-ad18-a218b0e718b6",
        "part": "whole"
       },
       "id": "dfb2e548-c607-4ae8-8f1e-e0ebc696986d"
      }
     }
    },
    "fd14396f-871d-4acc-8bc7-0b5318ba394a": {
     "id": "fd14396f-871d-4acc-8bc7-0b5318ba394a",
     "prev": "dd65f256-4375-428d-8c7c-1336ffa82e51",
     "regions": {
      "1bc58dd5-cb9c-49ec-8d63-2ff111a76e29": {
       "attrs": {
        "height": 0.8,
        "width": 0.8,
        "x": 0.1,
        "y": 0.1
       },
       "content": {
        "cell": "ac78d922-891e-4e49-af30-9690c44456a0",
        "part": "whole"
       },
       "id": "1bc58dd5-cb9c-49ec-8d63-2ff111a76e29"
      }
     }
    }
   },
   "themes": {}
  },
  "toc": {
   "nav_menu": {},
   "number_sections": false,
   "sideBar": true,
   "skip_h1_title": false,
   "toc_cell": false,
   "toc_position": {},
   "toc_section_display": "block",
   "toc_window_display": false
  }
 },
 "nbformat": 4,
 "nbformat_minor": 2
}
