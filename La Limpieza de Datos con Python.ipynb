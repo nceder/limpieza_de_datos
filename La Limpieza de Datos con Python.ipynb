{
 "cells": [
  {
   "cell_type": "markdown",
   "metadata": {
    "collapsed": true,
    "nbpresent": {
     "id": "26b3b9ad-6a1d-474b-8f6c-40acd315151a"
    },
    "slideshow": {
     "slide_type": "slide"
    }
   },
   "source": [
    "# La Limpieza de datos con Python  \n",
    "\n",
    "\n",
    "**Naomi Ceder, @naomiceder**\n",
    "\n",
    "- **Presidenta Saliente de la Python Software Foundation**\n",
    "- **La autora del Quick Python Book, 3rd ed**\n",
    "- **Dick Blick Art Materials**\n",
    "\n",
    "**Este cuaderno (pero no los archivos de datos) está disponible en Github - https://github.com/nceder/limpieza_de_datos**\n"
   ]
  },
  {
   "cell_type": "markdown",
   "metadata": {
    "nbpresent": {
     "id": "cca27bf6-5f61-46a7-bb21-e5759ea6981d"
    },
    "slideshow": {
     "slide_type": "slide"
    }
   },
   "source": [
    "## Agenda\n",
    "\n",
    "### Sobre la Python Software Foundation\n",
    "* La PSF\n",
    "   * La misión de la Python Software Foundation\n",
    "   * La situación de la PSF en el crisis actual"
   ]
  },
  {
   "cell_type": "markdown",
   "metadata": {
    "nbpresent": {
     "id": "cca27bf6-5f61-46a7-bb21-e5759ea6981d"
    },
    "slideshow": {
     "slide_type": "slide"
    }
   },
   "source": [
    "### Limpieza de datos\n",
    "\n",
    "* Introdución\n",
    "  * Las herriamientas\n",
    "  * Cómo buscar ayuda\n",
    "\n",
    "* Problema de muestra - contar las palabras en *Don Quijote*\n",
    "  * Las técnicas\n",
    "     * str.translate y métodos de cadenas\n",
    "     * funciones\n",
    "     * decorators\n",
    "     * comprensiones como filtros\n",
    "     * expresiones regulares\n",
    "     * NLTK\n"
   ]
  },
  {
   "cell_type": "markdown",
   "metadata": {
    "slideshow": {
     "slide_type": "slide"
    }
   },
   "source": [
    "### La PSF\n",
    "   * La misión de la Python Software Foundation\n",
    "   \n",
    "   “La misión de la Python Software Foundation es promover, proteger y avanzar el lenguaje de programación de Python y apoyar y facilitar el crecimiento de una comunidad diversa e internacional de programadores de Python”"
   ]
  },
  {
   "cell_type": "markdown",
   "metadata": {
    "slideshow": {
     "slide_type": "slide"
    }
   },
   "source": [
    "#### Proteger la propriedad intelectual\n",
    "\n",
    "* registar las marcas y logos de Python, PyPI, PyCon, PyLadies en todo el mundo\n",
    "    * si alguien va a usar (o cambiar) las marcas y logos, sería una buena idea que pedir permiso de psf-trademarks@python.org\n",
    "* mantener los derechos del autor de todo el código de Python\n",
    "   * para contribuir código a Python, debe sumitir una copia afirmada del contributor's agreement\n",
    "   "
   ]
  },
  {
   "cell_type": "markdown",
   "metadata": {
    "slideshow": {
     "slide_type": "slide"
    }
   },
   "source": [
    "#### Apoyar una comunidad diversa e internacional\n",
    "\n",
    "* Apoyar las comunidades y sus eventos en todo el mundo (casi $350,000 en 2019)\n",
    "\n",
    "    * se ponga en contacto con la PSF en psf@python.org\n",
    "    * únete a nosotros en https://www.python.org/psf-landing/\n",
    "       * miembro básico - gratis, solo se registre \n",
    "       * miembro de apoyo - $99 por año, puede votar en las elecciones en junio \n",
    "       * miembro contribuyente - 5 horas voluntarias por mes, también puede votar\n",
    "      "
   ]
  },
  {
   "cell_type": "markdown",
   "metadata": {
    "slideshow": {
     "slide_type": "slide"
    }
   },
   "source": [
    "* La situación de la PSF en el crisis actual\n",
    "  * PyCon 2020 ha sido cancelado; las charlas y talleres se encuentran en https://us.pycon.org/2020/online/\n",
    "  * Gracias a los patrocinadores y asistentes que no exigieron un reembolso, podemos cubrir los gastos, pero sin las ganancias de PyCon usaremos nuestras reservas durante el próximo año. \n",
    "  * Una pausa temporal de otorgar las becas y grants\n",
    "  * PyCon 2021 presencial - ¿quién sabe?"
   ]
  },
  {
   "cell_type": "markdown",
   "metadata": {
    "slideshow": {
     "slide_type": "slide"
    }
   },
   "source": [
    "### El enfoque de este taller\n",
    "\n",
    "* trabajar con un ejemplo simple\n",
    "* usar las herriemientas las más básicas posible \n",
    "* compartir mi experiencia\n",
    "\n",
    "No va a ser prescriptivo ni un \"cookbook\""
   ]
  },
  {
   "cell_type": "markdown",
   "metadata": {
    "nbpresent": {
     "id": "d52073c0-a871-4bed-aab5-77f0514d8031"
    },
    "slideshow": {
     "slide_type": "slide"
    }
   },
   "source": [
    "## Philosofía del taller\n",
    "\n",
    "“Todas las familias felices se parecen unas a otras, pero cada familia infeliz lo es a su manera.” - Tolstoy\n",
    "\n",
    "“¿Qué podría salir mal?” - Naomi, and many others\n",
    "\n",
    "“Si algo puede salir mal, lo hará” - Murphy"
   ]
  },
  {
   "cell_type": "markdown",
   "metadata": {
    "nbpresent": {
     "id": "d89f0121-0c7c-4b75-8807-b4707ae468f0"
    },
    "slideshow": {
     "slide_type": "fragment"
    }
   },
   "source": [
    "**o**\n",
    "\n",
    "Si todo va bien, puede usar las herramientas de alto nivel, pero cuando las cosas salen mal, debe trabajar en un nivel inferior. Y muchas veces las cosas salen mal.\n",
    "\n"
   ]
  },
  {
   "cell_type": "markdown",
   "metadata": {
    "nbpresent": {
     "id": "7638f572-4bae-4b96-adb0-1fae64570d7e"
    },
    "slideshow": {
     "slide_type": "slide"
    }
   },
   "source": [
    "## Herriamientas\n",
    "\n",
    "* Python 3.8+\n",
    "* la librería estándar - `collections, sys, os, str, re` módulos\n",
    "* `pip`\n",
    "  * `conda` si usas una distribución de Anaconda\n",
    "* los entornos virturales\n",
    "  * virtualenv o conda-env\n",
    "* NLTK\n"
   ]
  },
  {
   "cell_type": "markdown",
   "metadata": {
    "slideshow": {
     "slide_type": "slide"
    }
   },
   "source": [
    "### ¿Es librería o biblioteca? #EsBibliotecaNoLibreria\n",
    "\n",
    " <img src=\"es_biblioteca.jpg\">\n",
    " <img src=\"tipado_de_pato.png\">"
   ]
  },
  {
   "cell_type": "markdown",
   "metadata": {
    "nbpresent": {
     "id": "b87321af-d1fb-4087-b1c1-3416ddc3e825"
    },
    "slideshow": {
     "slide_type": "slide"
    }
   },
   "source": [
    "## Cómo buscar ayuda\n",
    "* Python - docs.python.org y https://python-docs-es.readthedocs.io/es/3.8/\n",
    "* la documentación de las ~~librerías~~ bibliotecas\n",
    "* dir() y help() en una shell Python\n"
   ]
  },
  {
   "cell_type": "markdown",
   "metadata": {
    "nbpresent": {
     "id": "adecdecf-3fae-4cbe-924a-f771e1472170"
    },
    "slideshow": {
     "slide_type": "slide"
    }
   },
   "source": [
    "### La documentación en Python.org \n",
    "\n",
    "* Python Tutorial - https://docs.python.org/3/tutorial/index.html / https://python-docs-es.readthedocs.io/es/3.8/tutorial/index.html\n",
    "* La ~~librería~~biblioteca estándar - https://docs.python.org/3/library/index.html - (aún no se traduce) https://python-docs-es.readthedocs.io/es/3.8/library/index.html\n"
   ]
  },
  {
   "cell_type": "markdown",
   "metadata": {
    "nbpresent": {
     "id": "f3c1746e-4236-45e4-9849-55133d08c7e3"
    },
    "slideshow": {
     "slide_type": "slide"
    }
   },
   "source": [
    "## Texto plano\n",
    "\n",
    "* el format de archivos más simple\n",
    "* casi sin estructura\n",
    "* muchas opciones y decisiones\n",
    "* cómo procesar texto plano está controlada por el uso de los datos"
   ]
  },
  {
   "cell_type": "markdown",
   "metadata": {
    "nbpresent": {
     "id": "f3c1746e-4236-45e4-9849-55133d08c7e3"
    },
    "slideshow": {
     "slide_type": "slide"
    }
   },
   "source": [
    "### Problema - contar las palabras en Don Quijote\n",
    "\n",
    "Cuáles son las palabras más frecuentes en *Don Quijote*\n",
    "\n",
    "Requisitos:\n",
    "\n",
    "1. no se cuentan otros cáracteres o símbolos\n",
    "2. las variaciones de una palabra deben contarse como la misma palabra - \"caballero\" == \"caballeros\" == \"CABALLERO\" == \"Caballero\""
   ]
  },
  {
   "cell_type": "markdown",
   "metadata": {
    "nbpresent": {
     "id": "f3c1746e-4236-45e4-9849-55133d08c7e3"
    },
    "slideshow": {
     "slide_type": "slide"
    }
   },
   "source": [
    "### En general, esto significa\n",
    "* limpieza de los datos \n",
    "   * eliminar los carácteres no UTF8\n",
    "   * eliminar los carácteres no alfanumericos - la punctuación y otros\n",
    "* normalización - maiúsculos/minúsculos\n",
    "* tokenization - ¿qué es una palabra?\n",
    "   * partir las palabras usando carácteres especifícos (e.g., los espacios y/o la punctuación)\n",
    "   * partir las palabras con regular expressions\n",
    "   * \"stemming\" (NLTK tokens)"
   ]
  },
  {
   "cell_type": "markdown",
   "metadata": {
    "slideshow": {
     "slide_type": "slide"
    }
   },
   "source": [
    "## Obtener el texto\n",
    "\n",
    "* pip install requests\n",
    "* descargar el texto"
   ]
  },
  {
   "cell_type": "code",
   "execution_count": 1,
   "metadata": {
    "scrolled": true,
    "slideshow": {
     "slide_type": "slide"
    }
   },
   "outputs": [],
   "source": [
    "import requests\n",
    "\n",
    "respuesta = requests.get(\n",
    "    \"http://www.gutenberg.org/cache/epub/2000/pg2000.txt\"\n",
    ")\n",
    "\n",
    "texto = respuesta.text\n",
    "\n",
    "with open(\"quijote.txt\", \"w\") as archivo:\n",
    "    archivo.write(texto)    "
   ]
  },
  {
   "cell_type": "code",
   "execution_count": 2,
   "metadata": {
    "scrolled": true,
    "slideshow": {
     "slide_type": "slide"
    }
   },
   "outputs": [
    {
     "data": {
      "text/plain": [
       "'\\ufeffThe Project Gutenberg EBook of Don Quijote, by Mi'"
      ]
     },
     "execution_count": 2,
     "metadata": {},
     "output_type": "execute_result"
    }
   ],
   "source": [
    "texto[:50]"
   ]
  },
  {
   "cell_type": "markdown",
   "metadata": {
    "slideshow": {
     "slide_type": "slide"
    }
   },
   "source": [
    "### Solución ingenua \n",
    "* cuenta de palabras simple\n",
    "* no procesiamiento"
   ]
  },
  {
   "cell_type": "code",
   "execution_count": 4,
   "metadata": {
    "scrolled": true,
    "slideshow": {
     "slide_type": "slide"
    }
   },
   "outputs": [],
   "source": [
    "# cuenta de palabras\n",
    "from collections import Counter\n",
    "\n",
    "cuenta_quijote = Counter()\n",
    "\n",
    "def tokenize(línea):\n",
    "    # partir con espacios en blanco\n",
    "    return línea.split()\n",
    "    \n",
    "def limpiar(línea):\n",
    "    # eliminar los espacios en blanco iniciales y finales\n",
    "    return línea.strip()\n",
    "\n",
    "def normalizar(línea):\n",
    "    return línea\n",
    "\n",
    "with open(\"quijote.txt\") as quijote:\n",
    "    for línea in quijote:\n",
    "        línea = limpiar(línea)\n",
    "        línea = normalizar(línea)\n",
    "        tokens = tokenize(línea)\n",
    "        cuenta_quijote.update(tokens)\n",
    "        "
   ]
  },
  {
   "cell_type": "code",
   "execution_count": 5,
   "metadata": {
    "scrolled": false,
    "slideshow": {
     "slide_type": "slide"
    }
   },
   "outputs": [
    {
     "name": "stdout",
     "output_type": "stream",
     "text": [
      "[('que', 19429), ('de', 17988), ('y', 15894), ('la', 10200), ('a', 9575), ('el', 7957), ('en', 7898), ('no', 5611), ('se', 4690), ('los', 4680), ('con', 4047), ('por', 3758), ('las', 3423), ('lo', 3387), ('le', 3382), ('su', 3319), ('don', 2533), ('del', 2464), ('me', 2344), ('como', 2226), ('es', 1990), ('un', 1927), ('más', 1823), ('si', 1779), ('yo', 1703), ('al', 1696), ('mi', 1684), ('para', 1419), ('ni', 1350), ('una', 1300), ('y,', 1250), ('tan', 1217), ('porque', 1189), ('o', 1159), ('sin', 1139), ('que,', 1069), ('sus', 1047), ('ha', 1038), ('él', 1034), ('había', 1006), ('ser', 997), ('todo', 963), ('Sancho', 950), ('Quijote', 894), ('-dijo', 873), ('bien', 862), ('-respondió', 813), ('vuestra', 792), ('señor', 732), ('te', 724), ('todos', 703), ('era', 700), ('ya', 689), ('sino', 687), ('merced', 678), ('cuando', 665), ('dos', 633), ('donde', 615), ('fue', 610), ('este', 609), ('quien', 605), ('Y', 595), ('esta', 585), ('pero', 577), ('qué', 551), ('cual', 534), ('Quijote,', 531), ('muy', 530), ('he', 529), ('aunque', 511), ('esto', 507), ('así', 483), ('Sancho,', 481), ('aquel', 478), ('hacer', 474), ('os', 463), ('decir', 459), ('otra', 457), ('dijo:', 457), ('son', 453), ('nos', 450), ('sobre', 450), ('hay', 440), ('buen', 439), ('ella', 419), ('está', 415), ('pues', 410), ('mal', 407), ('así,', 405), ('mí', 405), ('otro', 403), ('dijo', 402), ('aquí', 395), ('mis', 385), ('cosa', 380), ('caballero', 379), ('hasta', 376), ('tal', 375), ('estaba', 374), ('ver', 373)]\n"
     ]
    }
   ],
   "source": [
    "print(cuenta_quijote.most_common()[:100])"
   ]
  },
  {
   "cell_type": "code",
   "execution_count": 6,
   "metadata": {
    "scrolled": false,
    "slideshow": {
     "slide_type": "slide"
    }
   },
   "outputs": [
    {
     "name": "stdout",
     "output_type": "stream",
     "text": [
      "[('hundreds', 1), ('walks', 1), ('life.', 1), ('Volunteers', 1), ('financial', 1), ('assistance', 1), ('need', 1), ('critical', 1), ('reaching', 1), (\"Gutenberg-tm's\", 1), ('goals', 1), ('ensuring', 1), ('remain', 1), ('available', 1), ('generations', 1), ('come.', 1), ('2001,', 1), ('was', 1), ('secure', 1), ('permanent', 1), ('generations.', 1), ('learn', 1), ('help,', 1), ('see', 1), ('Sections', 1), ('4', 1), ('http://www.pglaf.org.', 1), ('3.', 1), ('profit', 1), ('educational', 1), ('corporation', 1), ('organized', 1), ('Mississippi', 1), ('granted', 1), ('Internal', 1), ('Revenue', 1), ('Service.', 1), ('EIN', 1), ('identification', 1), ('64-6221541.', 1), ('letter', 1), ('http://pglaf.org/fundraising.', 1), ('Contributions', 1), ('deductible', 1), ('extent', 1), (\"state's\", 1), ('laws.', 1), ('4557', 1), ('Melan', 1), ('Fairbanks,', 1), ('AK,', 1), ('99712.,', 1), ('scattered', 1), ('throughout', 1), ('numerous', 1), ('locations.', 1), ('business', 1), ('809', 1), ('North', 1), ('1500', 1), ('West,', 1), ('Salt', 1), ('Lake', 1), ('City,', 1), ('UT', 1), ('84116,', 1), ('(801)', 1), ('596-1887,', 1), ('business@pglaf.org.', 1), ('Email', 1), ('information:', 1), ('Gregory', 1), ('Newby', 1), ('Chief', 1), ('Executive', 1), ('Director', 1), ('gbnewby@pglaf.org', 1), ('4.', 1), ('depends', 1), ('survive', 1), ('wide', 1), ('spread', 1), ('carry', 1), ('out', 1), ('increasing', 1), ('licensed', 1), ('machine', 1), ('form', 1), ('accessible', 1), ('array', 1), ('equipment', 1), ('outdated', 1), ('Many', 1), ('($1', 1), ('$5,000)', 1), ('particularly', 1), ('important', 1), ('maintaining', 1), ('IRS.', 1), ('committed', 1), ('regulating', 1), ('charities', 1), ('charitable', 1), ('50', 1), ('Compliance', 1), ('uniform', 1), ('takes', 1), ('effort,', 1), ('much', 1), ('paperwork', 1), ('many', 1), ('meet', 1), ('requirements.', 1), ('We', 1), ('locations', 1), ('confirmation', 1), ('compliance.', 1), ('SEND', 1), ('DONATIONS', 1), ('determine', 1), ('visit', 1), ('While', 1), ('contributions', 1), ('met', 1), ('solicitation', 1), ('requirements,', 1), ('know', 1), ('prohibition', 1), ('against', 1), ('accepting', 1), ('unsolicited', 1), ('donors', 1), ('approach', 1), ('us', 1), ('offers', 1), ('donate.', 1), ('International', 1), ('gratefully', 1), ('accepted,', 1), ('statements', 1), ('treatment', 1), ('alone', 1), ('swamp', 1), ('staff.', 1), ('Please', 1), ('pages', 1), ('current', 1), ('donation', 1), ('methods', 1), ('addresses.', 1), ('accepted', 1), ('ways', 1), ('checks,', 1), ('credit', 1), ('card', 1), ('donations.', 1), ('donate,', 1), ('please', 1), ('visit:', 1), ('http://pglaf.org/donate', 1), ('5.', 1), ('About', 1), ('Professor', 1), ('Hart', 1), ('originator', 1), ('library', 1), ('could', 1), ('shared', 1), ('anyone.', 1), ('thirty', 1), ('years,', 1), ('produced', 1), ('loose', 1), ('network', 1), ('volunteer', 1), ('support.', 1), ('often', 1), ('several', 1), ('editions,', 1), ('confirmed', 1), ('Public', 1), ('Domain', 1), ('included.', 1), ('Thus,', 1), ('necessarily', 1), ('paper', 1), ('edition.', 1), ('Most', 1), ('start', 1), ('main', 1), ('PG', 1), ('search', 1), ('facility:', 1), ('http://www.gutenberg.net', 1), ('includes', 1), ('Gutenberg-tm,', 1), ('produce', 1), ('subscribe', 1), ('newsletter', 1), ('hear', 1)]\n"
     ]
    }
   ],
   "source": [
    "print(cuenta_quijote.most_common()[-200:])"
   ]
  },
  {
   "cell_type": "markdown",
   "metadata": {
    "slideshow": {
     "slide_type": "slide"
    }
   },
   "source": [
    "### Algunas mejoras\n",
    "* editar el archivo para eliminar el texto extra\n",
    "* cambiar todo a minúsculos - `lower()` método de las cadenas\n"
   ]
  },
  {
   "cell_type": "code",
   "execution_count": 8,
   "metadata": {
    "scrolled": true,
    "slideshow": {
     "slide_type": "slide"
    }
   },
   "outputs": [],
   "source": [
    "# cuenta de palabras\n",
    "from collections import Counter\n",
    "\n",
    "cuenta_quijote = Counter()\n",
    "\n",
    "def tokenize(línea):\n",
    "    palabras = línea.split() \n",
    "    return palabras\n",
    "\n",
    "def limpiar(línea):\n",
    "    return línea.strip()\n",
    "\n",
    "def normalizar(línea):\n",
    "    return línea.lower()\n",
    "\n",
    "with open(\"quijote_texto.txt\") as quijote:\n",
    "    for línea in quijote:\n",
    "        línea = limpiar(línea)\n",
    "        línea = normalizar(línea)\n",
    "        tokens = tokenize(línea)\n",
    "        cuenta_quijote.update(tokens)"
   ]
  },
  {
   "cell_type": "code",
   "execution_count": 9,
   "metadata": {
    "scrolled": false,
    "slideshow": {
     "slide_type": "slide"
    }
   },
   "outputs": [
    {
     "name": "stdout",
     "output_type": "stream",
     "text": [
      "[('que', 19470), ('de', 18153), ('y', 16489), ('la', 10338), ('a', 9746), ('el', 8170), ('en', 8149), ('no', 5766), ('los', 4735), ('se', 4690), ('con', 4146), ('por', 3818), ('las', 3461), ('lo', 3442), ('le', 3383), ('su', 3350), ('don', 2638), ('del', 2487), ('me', 2344), ('como', 2234), ('es', 2000), ('un', 1935), ('si', 1876), ('más', 1827), ('yo', 1786), ('al', 1727), ('mi', 1693), ('y,', 1562), ('para', 1429), ('ni', 1359), ('una', 1304), ('porque', 1232), ('tan', 1219), ('o', 1163), ('sin', 1143), ('que,', 1075), ('él', 1055), ('sus', 1048), ('ha', 1040), ('todo', 1023), ('había', 1010), ('ser', 997), ('sancho', 953), ('quijote', 904), ('bien', 890), ('-dijo', 873), ('vuestra', 818), ('-respondió', 813), ('señor', 752), ('pero', 734), ('ya', 727), ('te', 724), ('todos', 720), ('era', 716), ('cuando', 703), ('sino', 687), ('merced', 678), ('donde', 662), ('dos', 641), ('este', 627), ('fue', 624), ('esta', 607), ('quien', 605), ('qué', 551), ('así', 540), ('cual', 535), ('esto', 535), ('muy', 531), ('he', 530), ('quijote,', 529), ('aunque', 513), ('sancho,', 481), ('aquel', 480), ('hacer', 474), ('os', 463), ('caballero', 463), ('otra', 461), ('pues', 461), ('decir', 460), ('dijo:', 457), ('sobre', 454), ('son', 454), ('nos', 450), ('hay', 443), ('buen', 439), ('ella', 436), ('aquí', 422), ('dijo', 419), ('está', 416), ('mal', 411), ('otro', 409), ('así,', 407), ('mí', 405), ('mis', 388), ('estaba', 388), ('cosa', 382), ('hasta', 381), ('allí', 380), ('tal', 378), ('ver', 373)]\n"
     ]
    }
   ],
   "source": [
    "      \n",
    "print(cuenta_quijote.most_common(100))"
   ]
  },
  {
   "cell_type": "code",
   "execution_count": 10,
   "metadata": {
    "scrolled": false,
    "slideshow": {
     "slide_type": "slide"
    }
   },
   "outputs": [
    {
     "name": "stdout",
     "output_type": "stream",
     "text": [
      "[('-venid,', 1), ('mingo,', 1), ('desgreñada', 1), ('marido;', 1), ('despeado,', 1), ('-traed', 1), ('mayo;', 1), ('cinto,', 1), ('traspasarla', 1), ('átomo,', 1), ('ejercitándose', 1), ('impedidos', 1), ('importantes,', 1), ('compraría', 1), ('vendrían', 1), ('quijotiz;', 1), ('curambro;', 1), ('pancino.', 1), ('concedieron', 1), ('aprobaron', 1), ('ofreciéndosele', 1), ('celebérrimo', 1), ('compondré', 1), ('entretengamos', 1), ('andar;', 1), ('retule', 1), ('grabe', 1), ('hipérbole', 1), ('buscaremos', 1), ('mañeruelas,', 1), ('cuadraren,', 1), ('esquinen.', 1), ('carrasco:', 1), ('faltaren,', 1), ('darémosles', 1), ('estampadas', 1), ('impresas,', 1), ('fílidas,', 1), ('amarilis,', 1), ('fléridas,', 1), ('galateas', 1), ('belisardas;', 1), ('venden', 1), ('llamare', 1), ('ana,', 1), ('celebraré', 1), ('anarda;', 1), ('francisca,', 1), ('llamaré', 1), ('francenia;', 1), ('lucía,', 1), ('lucinda,', 1), ('allá;', 1), ('cofadría,', 1), ('teresaina.', 1), ('aplicación', 1), ('vacase', 1), ('forzosas', 1), ('aconsejaron', 1), ('tío?', 1), ('laberintos,', 1), ('pastorcillo,', 1), ('pastorcico,', 1), ('vas?', 1), ('alcacel', 1), ('zampoñas.', 1), ('¿podrá', 1), ('serenos', 1), ('aullido', 1), ('robustos,', 1), ('curtidos', 1), ('mantillas.', 1), ('pastor.', 1), ('ayunas,', 1), ('edad:', 1), ('fuere.', 1), ('-les', 1), ('cumple.', 1), ('sobrina-', 1), ('lxxiv.', 1), ('eternas,', 1), ('declinación', 1), ('arraigó', 1), ('calentura', 1), ('alegrarle,', 1), ('écloga,', 1), ('sanazaro', 1), ('comprados', 1), ('ganado:', 1), ('barcino,', 1), ('butrón,', 1), ('melancolías', 1), ('desabrimientos', 1), ('acababan.', 1), ('tirón,', 1), ('horas;', 1), ('hecho!', 1), ('límite,', 1), ('abrevian', 1), ('pareciéronle', 1), ('¿tenemos', 1), ('nuevo?', 1), ('pecados.', 1), ('caliginosas', 1), ('embelecos,', 1), ('recompensa,', 1), ('llámame,', 1), ('amigos:', 1), ('confesarme', 1), ('tres.', 1), ('quijano,', 1), ('profanas', 1), ('escarmentando', 1), ('abomino.', 1), ('creyeron,', 1), ('tomado.', 1), ('-¿ahora,', 1), ('¿agora', 1), ('cuentos.', 1), ('déjense', 1), ('traíganme', 1), ('confiesa,', 1), ('miráronse', 1), ('creer;', 1), ('conjeturaron', 1), ('confesóle.', 1), ('llorosas,', 1), ('pucheros', 1), ('-verdaderamente', 1), ('muere,', 1), ('bueno;', 1), ('empujón', 1), ('conocían.', 1), ('mandas,', 1), ('-ítem,', 1), ('tomares,', 1), ('sobrare', 1), ('restante', 1), ('llorando-:', 1), ('mate,', 1), ('concertado:', 1), ('derribaron;', 1), ('derribarse', 1), ('casos.', 1), ('antaño', 1), ('hogaño:', 1), ('mandas', 1), ('averiguare', 1), ('casare,', 1), ('distribuir', 1), ('pías', 1), ('pidan,', 1), ('escribirlos.', 1), ('alborotáronse', 1), ('desmayaba', 1), ('brindaba', 1), ('regocijaba', 1), ('heredar', 1), ('sacramentos,', 1), ('compasiones', 1), ('espíritu:', 1), ('murió.', 1), ('naturalmente;', 1), ('falsamente,', 1), ('inacabables', 1), ('puntualmente,', 1), ('contendiesen', 1), ('ahijársele', 1), ('tenérsele', 1), ('contendieron', 1), ('llantos', 1), ('pluma:', 1), ('quedarás,', 1), ('espetera', 1), ('alambre,', 1), ('péñola', 1), ('presuntuosos', 1), ('descuelgan', 1), ('profanarte.', 1), ('lleguen,', 1), ('pudieres:', 1), (\"''¡tate,\", 1), ('tate,', 1), ('folloncicos!', 1), ('tocada;', 1), ('escritor', 1), ('tordesillesco', 1), ('atrevió,', 1), ('atrever,', 1), ('avestruz', 1), ('deliñada', 1), ('resfriado', 1), ('advertirás,', 1), ('fueros', 1), ('fuesa', 1), (\"reinos''.\", 1), ('cumplirás', 1), ('aconsejando', 1), ('enteramente,', 1), ('tropezando,', 1)]\n"
     ]
    }
   ],
   "source": [
    "print(cuenta_quijote.most_common()[-200:])"
   ]
  },
  {
   "cell_type": "markdown",
   "metadata": {
    "slideshow": {
     "slide_type": "slide"
    }
   },
   "source": [
    "### Trucos de limpieza - funciones y decorators\n",
    "* si el código se usa mucho, debe convertirse a una función - hecho\n",
    "* si una función se usa mucho con otras funciones, puede convertirse a un decorator\n"
   ]
  },
  {
   "cell_type": "code",
   "execution_count": 11,
   "metadata": {
    "scrolled": true
   },
   "outputs": [],
   "source": [
    "def normalizar(func):\n",
    "    def wrapper(línea):\n",
    "        línea = línea.lower()\n",
    "        return func(línea)\n",
    "    return wrapper\n",
    "\n",
    "#def normalizar(línea):\n",
    "#    return línea.lower()\n"
   ]
  },
  {
   "cell_type": "code",
   "execution_count": 14,
   "metadata": {
    "scrolled": true,
    "slideshow": {
     "slide_type": "slide"
    }
   },
   "outputs": [],
   "source": [
    "# cuenta de palabras\n",
    "from collections import Counter\n",
    "\n",
    "cuenta_quijote = Counter()\n",
    "\n",
    "def tokenize(línea):\n",
    "    palabras = línea.split() \n",
    "    return palabras\n",
    "\n",
    "@normalizar\n",
    "def limpiar(línea):\n",
    "    return línea.strip()\n",
    "\n",
    "with open(\"quijote_texto.txt\") as quijote:\n",
    "    for línea in quijote:\n",
    "        línea = limpiar(línea)\n",
    "        #línea = normalizar(línea)\n",
    "        tokens = tokenize(línea)\n",
    "        cuenta_quijote.update(tokens)\n",
    "        "
   ]
  },
  {
   "cell_type": "code",
   "execution_count": 15,
   "metadata": {
    "scrolled": false,
    "slideshow": {
     "slide_type": "slide"
    }
   },
   "outputs": [
    {
     "name": "stdout",
     "output_type": "stream",
     "text": [
      "[('que', 19470), ('de', 18153), ('y', 16489), ('la', 10338), ('a', 9746), ('el', 8170), ('en', 8149), ('no', 5766), ('los', 4735), ('se', 4690), ('con', 4146), ('por', 3818), ('las', 3461), ('lo', 3442), ('le', 3383), ('su', 3350), ('don', 2638), ('del', 2487), ('me', 2344), ('como', 2234), ('es', 2000), ('un', 1935), ('si', 1876), ('más', 1827), ('yo', 1786), ('al', 1727), ('mi', 1693), ('y,', 1562), ('para', 1429), ('ni', 1359), ('una', 1304), ('porque', 1232), ('tan', 1219), ('o', 1163), ('sin', 1143), ('que,', 1075), ('él', 1055), ('sus', 1048), ('ha', 1040), ('todo', 1023), ('había', 1010), ('ser', 997), ('sancho', 953), ('quijote', 904), ('bien', 890), ('-dijo', 873), ('vuestra', 818), ('-respondió', 813), ('señor', 752), ('pero', 734), ('ya', 727), ('te', 724), ('todos', 720), ('era', 716), ('cuando', 703), ('sino', 687), ('merced', 678), ('donde', 662), ('dos', 641), ('este', 627), ('fue', 624), ('esta', 607), ('quien', 605), ('qué', 551), ('así', 540), ('cual', 535), ('esto', 535), ('muy', 531), ('he', 530), ('quijote,', 529), ('aunque', 513), ('sancho,', 481), ('aquel', 480), ('hacer', 474), ('os', 463), ('caballero', 463), ('otra', 461), ('pues', 461), ('decir', 460), ('dijo:', 457), ('sobre', 454), ('son', 454), ('nos', 450), ('hay', 443), ('buen', 439), ('ella', 436), ('aquí', 422), ('dijo', 419), ('está', 416), ('mal', 411), ('otro', 409), ('así,', 407), ('mí', 405), ('mis', 388), ('estaba', 388), ('cosa', 382), ('hasta', 381), ('allí', 380), ('tal', 378), ('ver', 373)]\n"
     ]
    }
   ],
   "source": [
    "print(cuenta_quijote.most_common(100))"
   ]
  },
  {
   "cell_type": "markdown",
   "metadata": {
    "slideshow": {
     "slide_type": "slide"
    }
   },
   "source": [
    "### Otras mejoras\n",
    "* eliminar la punctuación, etc\n",
    "   * `str.translate()` & `str.maketrans()`\n",
    "* filtrar las palabras \"stop words\" o palabras vacías \n",
    "   * usar una comprensión de listas como un filtro\n",
    "   * usar un conjunto o `set` para una tabla de palabras vacías\n"
   ]
  },
  {
   "cell_type": "code",
   "execution_count": 16,
   "metadata": {
    "scrolled": true,
    "slideshow": {
     "slide_type": "slide"
    }
   },
   "outputs": [],
   "source": [
    "# cuenta de palabras\n",
    "from collections import Counter\n",
    "cuenta_quijote = Counter()\n",
    "punct_table = str.maketrans(\".,\\\"-:;?¿!¡‹›«»\", \"              \")\n",
    "\n",
    "def tokenize(línea):\n",
    "    palabras = línea.split() \n",
    "    return palabras\n",
    "\n",
    "@normalizar\n",
    "def limpiar(línea):\n",
    "    línea =  línea.strip()\n",
    "    return línea.translate(punct_table)\n",
    "\n",
    "with open(\"quijote_texto.txt\") as quijote:\n",
    "    for línea in quijote:\n",
    "        línea = limpiar(línea)\n",
    "        tokens = tokenize(línea)\n",
    "        cuenta_quijote.update(tokens)"
   ]
  },
  {
   "cell_type": "code",
   "execution_count": 17,
   "metadata": {
    "scrolled": true,
    "slideshow": {
     "slide_type": "slide"
    }
   },
   "outputs": [
    {
     "name": "stdout",
     "output_type": "stream",
     "text": [
      "[('que', 20609), ('de', 18210), ('y', 18175), ('la', 10361), ('a', 9821), ('en', 8237), ('el', 8210), ('no', 6320), ('los', 4748), ('se', 4691), ('con', 4201), ('por', 3935), ('las', 3467), ('lo', 3457), ('le', 3398), ('su', 3352), ('don', 2647), ('del', 2491), ('me', 2345), ('como', 2262), ('quijote', 2175), ('sancho', 2147), ('es', 2141), ('yo', 2069), ('más', 2044), ('si', 1961), ('un', 1938), ('dijo', 1808), ('al', 1736), ('mi', 1702), ('para', 1462), ('porque', 1387), ('ni', 1375), ('una', 1329), ('él', 1276), ('tan', 1241), ('o', 1213), ('todo', 1176), ('sin', 1154), ('respondió', 1063), ('así', 1062), ('señor', 1060), ('ser', 1055), ('ha', 1052), ('sus', 1049), ('bien', 1048), ('había', 1034), ('pero', 1013), ('merced', 898), ('esto', 886), ('pues', 861), ('vuestra', 851), ('qué', 849), ('todos', 817), ('ya', 782), ('cuando', 757), ('era', 754), ('te', 726), ('cual', 704), ('sino', 694), ('dos', 684), ('donde', 674), ('caballero', 661), ('fue', 651), ('este', 641), ('esta', 624), ('quien', 618), ('ella', 604), ('decir', 578), ('he', 537), ('muy', 535), ('hacer', 534), ('aunque', 531), ('dios', 529), ('otra', 517), ('aquí', 515), ('señora', 514), ('otro', 511), ('mí', 502), ('aquel', 487), ('son', 485), ('estaba', 478), ('hay', 471), ('os', 463), ('mal', 459), ('sobre', 454), ('nos', 450), ('cosa', 447), ('buen', 442), ('está', 440), ('verdad', 431), ('tal', 427), ('allí', 421), ('tanto', 419), ('ver', 408), ('tengo', 400), ('luego', 390), ('tiene', 389), ('mundo', 389), ('sé', 388)]\n"
     ]
    }
   ],
   "source": [
    "print(cuenta_quijote.most_common(100))"
   ]
  },
  {
   "cell_type": "code",
   "execution_count": 18,
   "metadata": {
    "scrolled": false,
    "slideshow": {
     "slide_type": "slide"
    }
   },
   "outputs": [
    {
     "name": "stdout",
     "output_type": "stream",
     "text": [
      "[('ajustan', 1), ('amenos', 1), ('vacías', 1), ('flexible', 1), ('aguarden', 1), ('apresurarte', 1), ('dieres', 1), ('favorézcate', 1), ('consistir', 1), ('desnudóse', 1), ('arrebatando', 1), ('desmayes', 1), ('imprudencia', 1), ('zamora', 1), ('sobrecarga', 1), ('quebrados', 1), ('apártese', 1), ('levadas', 1), ('sobrará', 1), ('pégate', 1), ('contendré', 1), ('cobres', 1), ('ferreruelo', 1), ('resfriarme', 1), ('abrigó', 1), ('reconoció', 1), ('rastrillos', 1), ('vencieron', 1), ('alojáronle', 1), ('guadameciles', 1), ('menalao', 1), ('fragata', 1), ('verter', 1), ('desdichadísimas', 1), ('encontrara', 1), ('destruida', 1), ('paris', 1), ('escusaran', 1), ('bodegón', 1), ('pintasen', 1), ('zorra', 1), ('mauleón', 1), ('deum', 1), (\"''dé\", 1), (\"diere''\", 1), ('llegaremos', 1), ('enmendaré', 1), ('lxxii', 1), ('hojeé', 1), ('preguntaremos', 1), ('enjaezada', 1), ('importar', 1), ('palmease', 1), ('frión', 1), ('llovidas', 1), ('tutor', 1), ('burlería', 1), ('perseguirme', 1), ('nuncio', 1), ('curen', 1), ('albergue', 1), ('honrarse', 1), ('avellaneda', 1), ('jurídicamente', 1), ('partiéronse', 1), ('apartaban', 1), ('auténticamente', 1), ('reconocer', 1), ('lxxiii', 1), ('acreditan', 1), ('riñendo', 1), ('periquillo', 1), ('aplicando', 1), ('significar', 1), ('queríale', 1), ('agazapar', 1), ('cogióla', 1), ('presentósela', 1), ('presupongamos', 1), ('faltriquera', 1), ('dióselos', 1), ('rompidos', 1), ('desbaratados', 1), ('hincapié', 1), ('pasemos', 1), ('diósela', 1), ('repostero', 1), ('vistieron', 1), ('acomodóle', 1), ('abrazólos', 1), ('linces', 1), ('escusados', 1), ('divisaron', 1), ('despeado', 1), ('cinto', 1), ('traspasarla', 1), ('ejercitándose', 1), ('impedidos', 1), ('compraría', 1), ('vendrían', 1), ('curambro', 1), ('concedieron', 1), ('aprobaron', 1), ('ofreciéndosele', 1), ('compondré', 1), ('entretengamos', 1), ('retule', 1), ('grabe', 1), ('hipérbole', 1), ('buscaremos', 1), ('mañeruelas', 1), ('cuadraren', 1), ('esquinen', 1), ('faltaren', 1), ('darémosles', 1), ('estampadas', 1), ('fílidas', 1), ('amarilis', 1), ('fléridas', 1), ('belisardas', 1), ('venden', 1), ('celebraré', 1), ('anarda', 1), ('llamaré', 1), ('francenia', 1), ('lucinda', 1), ('cofadría', 1), ('teresaina', 1), ('vacase', 1), ('forzosas', 1), ('aconsejaron', 1), ('pastorcillo', 1), ('pastorcico', 1), ('alcacel', 1), ('zampoñas', 1), ('serenos', 1), ('robustos', 1), ('curtidos', 1), ('lxxiv', 1), ('eternas', 1), ('declinación', 1), ('arraigó', 1), ('alegrarle', 1), ('écloga', 1), ('sanazaro', 1), ('comprados', 1), ('barcino', 1), ('butrón', 1), ('desabrimientos', 1), ('tirón', 1), ('abrevian', 1), ('pareciéronle', 1), ('caliginosas', 1), ('confesarme', 1), ('profanas', 1), ('escarmentando', 1), ('abomino', 1), ('déjense', 1), ('traíganme', 1), ('miráronse', 1), ('conjeturaron', 1), ('confesóle', 1), ('llorosas', 1), ('pucheros', 1), ('empujón', 1), ('sobrare', 1), ('restante', 1), ('derribarse', 1), ('averiguare', 1), ('distribuir', 1), ('pías', 1), ('pidan', 1), ('escribirlos', 1), ('brindaba', 1), ('regocijaba', 1), ('heredar', 1), ('sacramentos', 1), ('compasiones', 1), ('inacabables', 1), ('contendiesen', 1), ('ahijársele', 1), ('contendieron', 1), ('quedarás', 1), ('espetera', 1), ('alambre', 1), ('péñola', 1), ('presuntuosos', 1), ('descuelgan', 1), ('profanarte', 1), ('folloncicos', 1), ('tocada', 1), ('tordesillesco', 1), ('atrever', 1), ('deliñada', 1), ('resfriado', 1), ('advertirás', 1), ('fuesa', 1), (\"reinos''\", 1), ('aconsejando', 1), ('enteramente', 1)]\n"
     ]
    }
   ],
   "source": [
    "print(cuenta_quijote.most_common()[-200:])"
   ]
  },
  {
   "cell_type": "markdown",
   "metadata": {
    "slideshow": {
     "slide_type": "slide"
    }
   },
   "source": [
    "### Cómo crear una tabla de palabras vacías\n",
    "* Hay listas que puede descargarse\n",
    "* Mira las palabras más comunes y elimine las que no están vacías\n",
    "* Usa conjuntos (set) para el mejor rendimiento\n"
   ]
  },
  {
   "cell_type": "code",
   "execution_count": 19,
   "metadata": {
    "scrolled": false,
    "slideshow": {
     "slide_type": "slide"
    }
   },
   "outputs": [
    {
     "data": {
      "text/plain": [
       "['que',\n",
       " 'de',\n",
       " 'y',\n",
       " 'la',\n",
       " 'a',\n",
       " 'en',\n",
       " 'el',\n",
       " 'no',\n",
       " 'los',\n",
       " 'se',\n",
       " 'con',\n",
       " 'por',\n",
       " 'las',\n",
       " 'lo',\n",
       " 'le',\n",
       " 'su',\n",
       " 'don',\n",
       " 'del',\n",
       " 'me',\n",
       " 'como',\n",
       " 'quijote',\n",
       " 'sancho',\n",
       " 'es',\n",
       " 'yo',\n",
       " 'más',\n",
       " 'si',\n",
       " 'un',\n",
       " 'dijo',\n",
       " 'al',\n",
       " 'mi',\n",
       " 'para',\n",
       " 'porque',\n",
       " 'ni',\n",
       " 'una',\n",
       " 'él',\n",
       " 'tan',\n",
       " 'o',\n",
       " 'todo',\n",
       " 'sin',\n",
       " 'respondió',\n",
       " 'así',\n",
       " 'señor',\n",
       " 'ser',\n",
       " 'ha',\n",
       " 'sus',\n",
       " 'bien',\n",
       " 'había',\n",
       " 'pero',\n",
       " 'merced',\n",
       " 'esto',\n",
       " 'pues',\n",
       " 'vuestra',\n",
       " 'qué',\n",
       " 'todos',\n",
       " 'ya',\n",
       " 'cuando',\n",
       " 'era',\n",
       " 'te',\n",
       " 'cual',\n",
       " 'sino',\n",
       " 'dos',\n",
       " 'donde',\n",
       " 'caballero',\n",
       " 'fue',\n",
       " 'este',\n",
       " 'esta',\n",
       " 'quien',\n",
       " 'ella',\n",
       " 'decir',\n",
       " 'he',\n",
       " 'muy',\n",
       " 'hacer',\n",
       " 'aunque',\n",
       " 'dios',\n",
       " 'otra',\n",
       " 'aquí',\n",
       " 'señora',\n",
       " 'otro',\n",
       " 'mí',\n",
       " 'aquel',\n",
       " 'son',\n",
       " 'estaba',\n",
       " 'hay',\n",
       " 'os',\n",
       " 'mal',\n",
       " 'sobre',\n",
       " 'nos',\n",
       " 'cosa',\n",
       " 'buen',\n",
       " 'está',\n",
       " 'verdad',\n",
       " 'tal',\n",
       " 'allí',\n",
       " 'tanto',\n",
       " 'ver',\n",
       " 'tengo',\n",
       " 'luego',\n",
       " 'tiene',\n",
       " 'mundo',\n",
       " 'sé',\n",
       " 'mis',\n",
       " 'hasta',\n",
       " 'alguna',\n",
       " 'poco',\n",
       " 'entre',\n",
       " 'dicho',\n",
       " 'todas',\n",
       " 'dar',\n",
       " 'ahora',\n",
       " 'buena',\n",
       " 'parte',\n",
       " 'vida',\n",
       " 'uno',\n",
       " 'tenía',\n",
       " 'han',\n",
       " 'menos',\n",
       " 'les',\n",
       " 'cosas',\n",
       " 'lugar',\n",
       " 'sí',\n",
       " 'gran',\n",
       " 'soy',\n",
       " 'tu',\n",
       " 'eso',\n",
       " 'aquella',\n",
       " 'casa',\n",
       " 'panza',\n",
       " 'manera',\n",
       " 'tiempo',\n",
       " 'digo',\n",
       " 'toda',\n",
       " 'cura',\n",
       " 'puesto',\n",
       " 'mano',\n",
       " 'amo',\n",
       " 'ellos',\n",
       " 'dio',\n",
       " 'mejor',\n",
       " 'caballeros',\n",
       " 'mucho',\n",
       " 'antes',\n",
       " 'fuera',\n",
       " 'visto',\n",
       " 'puede',\n",
       " 'ojos',\n",
       " 'sea',\n",
       " 'algún',\n",
       " 'dulcinea',\n",
       " 'cómo',\n",
       " 'día',\n",
       " 'otras',\n",
       " 'tierra',\n",
       " 'hecho',\n",
       " 'quién',\n",
       " 'otros',\n",
       " 'tú',\n",
       " 'hombre',\n",
       " 'aun',\n",
       " 'padre',\n",
       " 'quiero',\n",
       " 'haber',\n",
       " 'cielo',\n",
       " 'habían',\n",
       " 'historia',\n",
       " 'amigo',\n",
       " 'vio',\n",
       " 'saber',\n",
       " 'camino',\n",
       " 'parece',\n",
       " 'estas',\n",
       " 'hizo',\n",
       " 'tener',\n",
       " 'muchas',\n",
       " 'escudero',\n",
       " 'días',\n",
       " 'mas',\n",
       " 'manos',\n",
       " 'cuanto',\n",
       " 'tres',\n",
       " 'desta',\n",
       " 'fin',\n",
       " 'también',\n",
       " 'dice',\n",
       " 'mujer',\n",
       " 'será',\n",
       " 'cada',\n",
       " 'mesmo',\n",
       " 'cabeza',\n",
       " 'cuenta',\n",
       " 'nuestro',\n",
       " 'vos',\n",
       " 'punto',\n",
       " 'noche',\n",
       " 'replicó',\n",
       " 'fuese',\n",
       " 'veces',\n",
       " 'rocinante',\n",
       " 'vuesa',\n",
       " 'parecer',\n",
       " 'estos']"
      ]
     },
     "execution_count": 19,
     "metadata": {},
     "output_type": "execute_result"
    }
   ],
   "source": [
    "vacías_lista = [f\"{x[0]}\" for x in cuenta_quijote.most_common(200)]\n",
    "vacías_lista"
   ]
  },
  {
   "cell_type": "code",
   "execution_count": 22,
   "metadata": {
    "scrolled": true,
    "slideshow": {
     "slide_type": "slide"
    }
   },
   "outputs": [],
   "source": [
    "palabras_vacías = {'que', 'de', 'y', 'la', 'a', 'el', 'en', 'no',\n",
    "                 'se', 'los', 'con', 'por', 'las', 'lo', 'le', 'su', \n",
    "                 'del', 'me', 'como', 'es', 'un', 'más', 'si', 'yo', \n",
    "                 'al', 'mi', 'para', 'ni', 'una', 'y,', 'tan', 'porque', \n",
    "                 'o', 'sin', 'sus', 'ha', 'él', 'había', 'ser', \n",
    "                 'todo', 'te', 'era', 'ya', 'sino', 'cuando', 'dos', \n",
    "                 'donde', 'fue', 'este', 'quien', 'esta', 'pero',\n",
    "                 'qué', 'cual', 'muy', 'he', 'aunque', 'esto', 'así',\n",
    "                 'aquel', 'hacer', 'os', 'son', 'nos', 'sobre', 'hay', \n",
    "                 'ella', 'está', 'pues', 'mal', 'así,', 'mí', 'otro', 'mis',\n",
    "                 'hasta', 'tal', 'estaba', 'ver', 'allí', 'sé', 'entre', \n",
    "                 'dar', 'han', 'tanto', 'les', 'tengo', 'todas', 'tu', \n",
    "                 'esto,', 'aquella', 'uno', 'tenía', 'luego', 'algún', \n",
    "                 'soy', 'fuera', 'ahora', 'haber', 'otras',  \n",
    "                 'habían', 'aun', 'mucho', 'tener', 'estas', 'antes', \n",
    "                 'sea', 'ellos', 'cuanto', 'cada', \n",
    "                 'otros', 'tres', 'será', 'estos', 'hizo', 'también', \n",
    "                 'mesmo', 'hecho', 'sí', 'tú', 'podía', 'nuestro',\n",
    "                 'debe', 'mucha', 'cómo', 'sólo', 'eran', 'después'}"
   ]
  },
  {
   "cell_type": "code",
   "execution_count": 23,
   "metadata": {
    "scrolled": true,
    "slideshow": {
     "slide_type": "slide"
    }
   },
   "outputs": [],
   "source": [
    "from collections import Counter\n",
    "cuenta_quijote = Counter()\n",
    "punct_table = str.maketrans(\".,\\\"-:;?¿!¡‹›«»\", \"              \")\n",
    "\n",
    "def tokenize(línea):\n",
    "    palabras = [palabra.strip() for palabra in línea.split() \n",
    "             if palabra.strip() not in palabras_vacías]\n",
    "    return palabras\n",
    "\n",
    "@normalizar\n",
    "def limpiar(línea):\n",
    "    línea =  línea.strip()\n",
    "    return línea.translate(punct_table)\n",
    "\n",
    "with open(\"quijote_texto.txt\") as quijote:\n",
    "    for línea in quijote:\n",
    "        línea = limpiar(línea)\n",
    "        tokens = tokenize(línea)\n",
    "        cuenta_quijote.update(tokens)"
   ]
  },
  {
   "cell_type": "code",
   "execution_count": 24,
   "metadata": {
    "scrolled": false,
    "slideshow": {
     "slide_type": "slide"
    }
   },
   "outputs": [
    {
     "name": "stdout",
     "output_type": "stream",
     "text": [
      "[('don', 2647), ('quijote', 2175), ('sancho', 2147), ('dijo', 1808), ('respondió', 1063), ('señor', 1060), ('bien', 1048), ('merced', 898), ('vuestra', 851), ('todos', 817), ('caballero', 661), ('decir', 578), ('dios', 529), ('otra', 517), ('aquí', 515), ('señora', 514), ('cosa', 447), ('buen', 442), ('verdad', 431), ('tiene', 389), ('mundo', 389), ('alguna', 385), ('poco', 380), ('dicho', 373), ('buena', 363), ('parte', 362), ('vida', 353), ('menos', 347), ('cosas', 347), ('lugar', 345), ('gran', 340), ('eso', 334), ('casa', 332), ('panza', 329), ('manera', 328), ('tiempo', 327), ('digo', 322), ('toda', 320), ('cura', 312), ('puesto', 307), ('mano', 304), ('amo', 297), ('dio', 294), ('mejor', 293), ('caballeros', 293), ('visto', 285), ('puede', 285), ('ojos', 284), ('dulcinea', 282), ('día', 274), ('tierra', 273), ('quién', 270), ('hombre', 259), ('padre', 258), ('quiero', 258), ('cielo', 251), ('historia', 249), ('amigo', 249), ('vio', 248), ('saber', 247), ('camino', 245), ('parece', 245), ('muchas', 242), ('escudero', 242), ('días', 240), ('mas', 240), ('manos', 239), ('desta', 234), ('fin', 234), ('dice', 225), ('mujer', 225), ('cabeza', 215), ('cuenta', 214), ('vos', 212), ('punto', 211), ('noche', 211), ('replicó', 208), ('fuese', 207), ('veces', 207), ('rocinante', 206), ('vuesa', 203), ('parecer', 202), ('duque', 200), ('muchos', 200), ('razones', 200), ('diciendo', 198), ('caballo', 197), ('grande', 196), ('andante', 196), ('gusto', 193), ('pie', 193), ('vez', 191), ('mil', 190), ('primero', 190), ('decía', 190), ('duquesa', 189), ('mío', 188), ('oh', 188), ('llegó', 185), ('nombre', 179)]\n"
     ]
    }
   ],
   "source": [
    "print(cuenta_quijote.most_common(100))"
   ]
  },
  {
   "cell_type": "code",
   "execution_count": 25,
   "metadata": {
    "scrolled": false,
    "slideshow": {
     "slide_type": "slide"
    }
   },
   "outputs": [
    {
     "name": "stdout",
     "output_type": "stream",
     "text": [
      "[('ajustan', 1), ('amenos', 1), ('vacías', 1), ('flexible', 1), ('aguarden', 1), ('apresurarte', 1), ('dieres', 1), ('favorézcate', 1), ('consistir', 1), ('desnudóse', 1), ('arrebatando', 1), ('desmayes', 1), ('imprudencia', 1), ('zamora', 1), ('sobrecarga', 1), ('quebrados', 1), ('apártese', 1), ('levadas', 1), ('sobrará', 1), ('pégate', 1), ('contendré', 1), ('cobres', 1), ('ferreruelo', 1), ('resfriarme', 1), ('abrigó', 1), ('reconoció', 1), ('rastrillos', 1), ('vencieron', 1), ('alojáronle', 1), ('guadameciles', 1), ('menalao', 1), ('fragata', 1), ('verter', 1), ('desdichadísimas', 1), ('encontrara', 1), ('destruida', 1), ('paris', 1), ('escusaran', 1), ('bodegón', 1), ('pintasen', 1), ('zorra', 1), ('mauleón', 1), ('deum', 1), (\"''dé\", 1), (\"diere''\", 1), ('llegaremos', 1), ('enmendaré', 1), ('lxxii', 1), ('hojeé', 1), ('preguntaremos', 1), ('enjaezada', 1), ('importar', 1), ('palmease', 1), ('frión', 1), ('llovidas', 1), ('tutor', 1), ('burlería', 1), ('perseguirme', 1), ('nuncio', 1), ('curen', 1), ('albergue', 1), ('honrarse', 1), ('avellaneda', 1), ('jurídicamente', 1), ('partiéronse', 1), ('apartaban', 1), ('auténticamente', 1), ('reconocer', 1), ('lxxiii', 1), ('acreditan', 1), ('riñendo', 1), ('periquillo', 1), ('aplicando', 1), ('significar', 1), ('queríale', 1), ('agazapar', 1), ('cogióla', 1), ('presentósela', 1), ('presupongamos', 1), ('faltriquera', 1), ('dióselos', 1), ('rompidos', 1), ('desbaratados', 1), ('hincapié', 1), ('pasemos', 1), ('diósela', 1), ('repostero', 1), ('vistieron', 1), ('acomodóle', 1), ('abrazólos', 1), ('linces', 1), ('escusados', 1), ('divisaron', 1), ('despeado', 1), ('cinto', 1), ('traspasarla', 1), ('ejercitándose', 1), ('impedidos', 1), ('compraría', 1), ('vendrían', 1), ('curambro', 1), ('concedieron', 1), ('aprobaron', 1), ('ofreciéndosele', 1), ('compondré', 1), ('entretengamos', 1), ('retule', 1), ('grabe', 1), ('hipérbole', 1), ('buscaremos', 1), ('mañeruelas', 1), ('cuadraren', 1), ('esquinen', 1), ('faltaren', 1), ('darémosles', 1), ('estampadas', 1), ('fílidas', 1), ('amarilis', 1), ('fléridas', 1), ('belisardas', 1), ('venden', 1), ('celebraré', 1), ('anarda', 1), ('llamaré', 1), ('francenia', 1), ('lucinda', 1), ('cofadría', 1), ('teresaina', 1), ('vacase', 1), ('forzosas', 1), ('aconsejaron', 1), ('pastorcillo', 1), ('pastorcico', 1), ('alcacel', 1), ('zampoñas', 1), ('serenos', 1), ('robustos', 1), ('curtidos', 1), ('lxxiv', 1), ('eternas', 1), ('declinación', 1), ('arraigó', 1), ('alegrarle', 1), ('écloga', 1), ('sanazaro', 1), ('comprados', 1), ('barcino', 1), ('butrón', 1), ('desabrimientos', 1), ('tirón', 1), ('abrevian', 1), ('pareciéronle', 1), ('caliginosas', 1), ('confesarme', 1), ('profanas', 1), ('escarmentando', 1), ('abomino', 1), ('déjense', 1), ('traíganme', 1), ('miráronse', 1), ('conjeturaron', 1), ('confesóle', 1), ('llorosas', 1), ('pucheros', 1), ('empujón', 1), ('sobrare', 1), ('restante', 1), ('derribarse', 1), ('averiguare', 1), ('distribuir', 1), ('pías', 1), ('pidan', 1), ('escribirlos', 1), ('brindaba', 1), ('regocijaba', 1), ('heredar', 1), ('sacramentos', 1), ('compasiones', 1), ('inacabables', 1), ('contendiesen', 1), ('ahijársele', 1), ('contendieron', 1), ('quedarás', 1), ('espetera', 1), ('alambre', 1), ('péñola', 1), ('presuntuosos', 1), ('descuelgan', 1), ('profanarte', 1), ('folloncicos', 1), ('tocada', 1), ('tordesillesco', 1), ('atrever', 1), ('deliñada', 1), ('resfriado', 1), ('advertirás', 1), ('fuesa', 1), (\"reinos''\", 1), ('aconsejando', 1), ('enteramente', 1)]\n"
     ]
    }
   ],
   "source": [
    "print(cuenta_quijote.most_common()[-200:])"
   ]
  },
  {
   "cell_type": "markdown",
   "metadata": {
    "nbpresent": {
     "id": "a58156c7-8378-42b9-b05f-edc02674c066"
    },
    "slideshow": {
     "slide_type": "slide"
    }
   },
   "source": [
    "## La limpieza de texto con las expresiones regulares \n",
    "\n",
    "   ‘Some people, when confronted with a problem, think \"I know, I'll use regular expressions.\" Now they have two problems’ - Jamie Zawiski\n",
    "   \n",
    "   *Algunos, cuanto enfrentan un problema, piensan, \"lo tengo - voy a usar expresiones regulares.\" Y ahora tienen dos problemas...*\n",
    "   \n",
    "* regular expressions - https://docs.python.org/3/howto/regex.html\n"
   ]
  },
  {
   "cell_type": "code",
   "execution_count": 27,
   "metadata": {
    "scrolled": true,
    "slideshow": {
     "slide_type": "slide"
    }
   },
   "outputs": [],
   "source": [
    "import re\n",
    "\n",
    "cuenta_quijote = Counter()\n",
    "re_palabra = re.compile(\"\\w+|\\w+-\\w+\")\n",
    "\n",
    "def tokenize(línea):\n",
    "    palabras = [\n",
    "        palabra\n",
    "        for palabra in re_palabra.findall(línea)\n",
    "        if palabra not in palabras_vacías\n",
    "    ]\n",
    "    return palabras\n",
    "\n",
    "@normalizar\n",
    "def limpiar(línea):\n",
    "    línea = línea.strip()\n",
    "    return línea\n",
    "\n",
    "with open(\"quijote_texto.txt\") as quijote:\n",
    "    for línea in quijote:\n",
    "        línea = limpiar(línea)\n",
    "        tokens = tokenize(línea)\n",
    "        cuenta_quijote.update(tokens)"
   ]
  },
  {
   "cell_type": "code",
   "execution_count": 28,
   "metadata": {
    "scrolled": false,
    "slideshow": {
     "slide_type": "slide"
    }
   },
   "outputs": [
    {
     "name": "stdout",
     "output_type": "stream",
     "text": [
      "[('don', 2647), ('quijote', 2175), ('sancho', 2148), ('dijo', 1808), ('señor', 1063), ('respondió', 1063), ('bien', 1050), ('merced', 900), ('vuestra', 852), ('todos', 817), ('caballero', 661), ('decir', 578), ('dios', 531), ('otra', 517), ('aquí', 516), ('señora', 516), ('cosa', 447), ('buen', 442), ('verdad', 432), ('mundo', 394), ('tiene', 389), ('alguna', 385), ('poco', 380), ('dicho', 373), ('parte', 363), ('buena', 363), ('vida', 356), ('menos', 347), ('cosas', 347), ('lugar', 345), ('gran', 340), ('eso', 335), ('casa', 334), ('panza', 329), ('manera', 328), ('tiempo', 327), ('digo', 323), ('toda', 320), ('cura', 313), ('puesto', 307), ('mano', 304), ('amo', 297), ('dio', 294), ('mejor', 293), ('caballeros', 293), ('visto', 285), ('ojos', 285), ('puede', 285), ('dulcinea', 282), ('día', 274), ('tierra', 274), ('quién', 270), ('quiero', 261), ('padre', 259), ('hombre', 259), ('cielo', 252), ('historia', 249), ('amigo', 249), ('vio', 248), ('saber', 247), ('camino', 245), ('parece', 245), ('muchas', 242), ('escudero', 242), ('días', 240), ('mas', 240), ('manos', 239), ('desta', 234), ('fin', 234), ('mujer', 226), ('dice', 225), ('cabeza', 215), ('cuenta', 214), ('vos', 212), ('punto', 211), ('noche', 211), ('replicó', 208), ('fuese', 207), ('veces', 207), ('rocinante', 206), ('vuesa', 203), ('parecer', 202), ('duque', 200), ('muchos', 200), ('razones', 200), ('diciendo', 198), ('andante', 197), ('caballo', 197), ('grande', 196), ('gusto', 193), ('pie', 193), ('mil', 191), ('vez', 191), ('primero', 190), ('decía', 190), ('mío', 189), ('duquesa', 189), ('oh', 188), ('llegó', 185), ('nombre', 180)]\n"
     ]
    }
   ],
   "source": [
    "print(cuenta_quijote.most_common(100))"
   ]
  },
  {
   "cell_type": "code",
   "execution_count": 29,
   "metadata": {
    "scrolled": false,
    "slideshow": {
     "slide_type": "slide"
    }
   },
   "outputs": [
    {
     "name": "stdout",
     "output_type": "stream",
     "text": [
      "[('abrevies', 1), ('abriré', 1), ('esperada', 1), ('ajustan', 1), ('amenos', 1), ('vacías', 1), ('flexible', 1), ('aguarden', 1), ('apresurarte', 1), ('dieres', 1), ('favorézcate', 1), ('consistir', 1), ('desnudóse', 1), ('arrebatando', 1), ('desmayes', 1), ('imprudencia', 1), ('zamora', 1), ('sobrecarga', 1), ('quebrados', 1), ('apártese', 1), ('levadas', 1), ('sobrará', 1), ('pégate', 1), ('contendré', 1), ('cobres', 1), ('ferreruelo', 1), ('resfriarme', 1), ('abrigó', 1), ('reconoció', 1), ('rastrillos', 1), ('vencieron', 1), ('alojáronle', 1), ('guadameciles', 1), ('menalao', 1), ('fragata', 1), ('verter', 1), ('desdichadísimas', 1), ('encontrara', 1), ('destruida', 1), ('paris', 1), ('escusaran', 1), ('bodegón', 1), ('pintasen', 1), ('zorra', 1), ('mauleón', 1), ('deum', 1), ('llegaremos', 1), ('enmendaré', 1), ('lxxii', 1), ('hojeé', 1), ('preguntaremos', 1), ('enjaezada', 1), ('importar', 1), ('palmease', 1), ('frión', 1), ('llovidas', 1), ('tutor', 1), ('burlería', 1), ('perseguirme', 1), ('nuncio', 1), ('curen', 1), ('albergue', 1), ('honrarse', 1), ('avellaneda', 1), ('jurídicamente', 1), ('partiéronse', 1), ('apartaban', 1), ('auténticamente', 1), ('reconocer', 1), ('lxxiii', 1), ('acreditan', 1), ('riñendo', 1), ('periquillo', 1), ('aplicando', 1), ('significar', 1), ('queríale', 1), ('agazapar', 1), ('cogióla', 1), ('presentósela', 1), ('presupongamos', 1), ('faltriquera', 1), ('dióselos', 1), ('rompidos', 1), ('desbaratados', 1), ('hincapié', 1), ('pasemos', 1), ('diósela', 1), ('repostero', 1), ('vistieron', 1), ('acomodóle', 1), ('abrazólos', 1), ('linces', 1), ('escusados', 1), ('divisaron', 1), ('despeado', 1), ('cinto', 1), ('traspasarla', 1), ('ejercitándose', 1), ('impedidos', 1), ('compraría', 1), ('vendrían', 1), ('curambro', 1), ('concedieron', 1), ('aprobaron', 1), ('ofreciéndosele', 1), ('compondré', 1), ('entretengamos', 1), ('retule', 1), ('grabe', 1), ('hipérbole', 1), ('buscaremos', 1), ('mañeruelas', 1), ('cuadraren', 1), ('esquinen', 1), ('faltaren', 1), ('darémosles', 1), ('estampadas', 1), ('fílidas', 1), ('amarilis', 1), ('fléridas', 1), ('belisardas', 1), ('venden', 1), ('celebraré', 1), ('anarda', 1), ('llamaré', 1), ('francenia', 1), ('lucinda', 1), ('cofadría', 1), ('teresaina', 1), ('vacase', 1), ('forzosas', 1), ('aconsejaron', 1), ('pastorcillo', 1), ('pastorcico', 1), ('alcacel', 1), ('zampoñas', 1), ('serenos', 1), ('robustos', 1), ('curtidos', 1), ('lxxiv', 1), ('eternas', 1), ('declinación', 1), ('arraigó', 1), ('alegrarle', 1), ('écloga', 1), ('sanazaro', 1), ('comprados', 1), ('barcino', 1), ('butrón', 1), ('desabrimientos', 1), ('tirón', 1), ('abrevian', 1), ('pareciéronle', 1), ('caliginosas', 1), ('confesarme', 1), ('profanas', 1), ('escarmentando', 1), ('abomino', 1), ('déjense', 1), ('traíganme', 1), ('miráronse', 1), ('conjeturaron', 1), ('confesóle', 1), ('llorosas', 1), ('pucheros', 1), ('empujón', 1), ('sobrare', 1), ('restante', 1), ('derribarse', 1), ('averiguare', 1), ('distribuir', 1), ('pías', 1), ('pidan', 1), ('escribirlos', 1), ('brindaba', 1), ('regocijaba', 1), ('heredar', 1), ('sacramentos', 1), ('compasiones', 1), ('inacabables', 1), ('contendiesen', 1), ('ahijársele', 1), ('contendieron', 1), ('quedarás', 1), ('espetera', 1), ('alambre', 1), ('péñola', 1), ('presuntuosos', 1), ('descuelgan', 1), ('profanarte', 1), ('folloncicos', 1), ('tocada', 1), ('tordesillesco', 1), ('atrever', 1), ('deliñada', 1), ('resfriado', 1), ('advertirás', 1), ('fuesa', 1), ('aconsejando', 1), ('enteramente', 1)]\n"
     ]
    }
   ],
   "source": [
    "print(cuenta_quijote.most_common()[-200:])"
   ]
  },
  {
   "cell_type": "markdown",
   "metadata": {
    "nbpresent": {
     "id": "a58156c7-8378-42b9-b05f-edc02674c066"
    },
    "slideshow": {
     "slide_type": "slide"
    }
   },
   "source": [
    "## Expresiones regulares precompiladas\n",
    "\n",
    "Las expresiones precompiladas son (más o menos) 10% más rápidas... \n"
   ]
  },
  {
   "cell_type": "code",
   "execution_count": 33,
   "metadata": {
    "scrolled": true,
    "slideshow": {
     "slide_type": "slide"
    }
   },
   "outputs": [
    {
     "name": "stdout",
     "output_type": "stream",
     "text": [
      "350 ms ± 31.7 ms per loop (mean ± std. dev. of 7 runs, 1 loop each)\n",
      "403 ms ± 26.7 ms per loop (mean ± std. dev. of 7 runs, 1 loop each)\n"
     ]
    }
   ],
   "source": [
    "re_palabra = re.compile(\"\\w+|\\w+-\\w+\")\n",
    "def tokenize(línea):    \n",
    "    palabras = [palabra for palabra in re_palabra.findall(línea) \n",
    "             if palabra not in palabras_vacías]\n",
    "    return palabras\n",
    "\n",
    "def tokenize2(línea):\n",
    "    palabras = [palabra for palabra in re.findall(\"\\w+|\\w+-\\w+\", línea)\n",
    "             if palabra not in palabras_vacías]\n",
    "    return palabras\n",
    "\n",
    "def test_tokenize():\n",
    "    with open(\"quijote_texto.txt\") as quijote:\n",
    "        for línea in quijote:\n",
    "            tokens = tokenize(línea)\n",
    "            \n",
    "def test_tokenize2():\n",
    "    with open(\"quijote_texto.txt\") as quijote:\n",
    "        for línea in quijote:\n",
    "            tokens = tokenize2(línea)\n",
    "\n",
    "%timeit test_tokenize()\n",
    "%timeit test_tokenize2()"
   ]
  },
  {
   "cell_type": "markdown",
   "metadata": {
    "slideshow": {
     "slide_type": "slide"
    }
   },
   "source": [
    "### Nivel más alto - NLP (TALN)\n",
    "* NLTK (Natural Language Toolkit)\n",
    "* tokenize - devolver las palabras\n",
    "* stemming - devolver las raíces de las palabras "
   ]
  },
  {
   "cell_type": "code",
   "execution_count": 34,
   "metadata": {
    "scrolled": true,
    "slideshow": {
     "slide_type": "slide"
    }
   },
   "outputs": [],
   "source": [
    "from collections import Counter\n",
    "from nltk.tokenize import word_tokenize\n",
    "from nltk.stem import SnowballStemmer\n",
    "cuenta_quijote = Counter()\n",
    "stemmer_español = SnowballStemmer(\"spanish\")\n",
    "\n",
    "def tokenize(línea):\n",
    "    palabras = [\n",
    "        palabra\n",
    "        for palabra in word_tokenize(línea, language=\"spanish\")\n",
    "        if palabra not in palabras_vacías\n",
    "    ]\n",
    "    palabras = [stemmer_español.stem(palabra) for palabra in palabras]\n",
    "    return palabras\n",
    "\n",
    "@normalizar\n",
    "def limpiar(línea):\n",
    "    línea = línea.strip()\n",
    "    return línea.translate(punct_table)\n",
    "\n",
    "with open(\"quijote_texto.txt\") as quijote:\n",
    "    for línea in quijote:\n",
    "        línea = limpiar(línea)\n",
    "        tokens = tokenize(línea)\n",
    "        cuenta_quijote.update(tokens)"
   ]
  },
  {
   "cell_type": "code",
   "execution_count": 35,
   "metadata": {
    "scrolled": true,
    "slideshow": {
     "slide_type": "slide"
    }
   },
   "outputs": [
    {
     "name": "stdout",
     "output_type": "stream",
     "text": [
      "[('don', 2656), ('quijot', 2180), ('sanch', 2158), ('dij', 1882), ('señor', 1812), ('respond', 1277), ('vuestr', 1141), ('tod', 1137), ('buen', 1115), ('bien', 1069), ('dec', 967), ('caballer', 955), ('merc', 900), ('parec', 833), ('cos', 805), ('pas', 748), ('dej', 747), ('algun', 735), ('dic', 675), ('lleg', 646), ('sab', 638), ('hac', 623), ('cas', 615), ('qued', 601), ('tien', 596), ('pued', 592), ('part', 579), ('man', 561), ('dest', 550), ('quier', 543), ('dios', 539), ('llev', 523), ('sal', 519), ('otra', 517), ('aqu', 516), ('verd', 508), ('poc', 506), ('hall', 499), ('volv', 499), ('ven', 470), ('mir', 460), ('llam', 458), ('caball', 445), ('much', 442), ('tom', 431), ('dig', 429), ('dich', 428), ('vist', 422), ('aquell', 409), ('puest', 409), ('hombr', 403), ('mund', 398), ('camin', 395), ('razon', 388), ('hab', 379), ('libr', 379), ('vid', 373), ('cur', 373), ('tiemp', 370), ('cuent', 366), ('tant', 364), ('men', 364), ('pon', 363), ('sol', 359), ('andant', 359), ('gran', 358), ('mejor', 354), ('amig', 351), ('lug', 345), ('quis', 339), ('maner', 337), ('entend', 336), ('panz', 335), ('eso', 335), ('hij', 334), ('padr', 329), ('pud', 328), ('esper', 327), ('tuv', 323), ('deb', 322), ('histori', 322), ('grand', 322), ('primer', 315), ('acab', 313), ('ningun', 310), ('escuder', 307), ('habl', 307), ('pens', 302), ('muert', 301), ('amo', 297), ('pregunt', 296), ('suel', 295), ('dio', 294), ('nuev', 293), ('conoc', 291), ('ten', 290), ('quer', 289), ('ojos', 285), ('tierr', 285), ('mism', 283)]\n"
     ]
    }
   ],
   "source": [
    "print(cuenta_quijote.most_common(100))"
   ]
  },
  {
   "cell_type": "code",
   "execution_count": 36,
   "metadata": {
    "scrolled": true,
    "slideshow": {
     "slide_type": "slide"
    }
   },
   "outputs": [
    {
     "name": "stdout",
     "output_type": "stream",
     "text": [
      "[('desalforj', 1), ('panecill', 1), ('lxvii', 1), ('quisom', 1), ('maldijom', 1), ('vituperom', 1), ('azotart', 1), ('gusan', 1), ('unta', 1), ('darann', 1), ('sansonin', 1), ('micul', 1), ('boscan', 1), ('nemor', 1), ('deriv', 1), ('tereson', 1), ('churumbel', 1), ('almohaz', 1), ('alhucem', 1), ('zaquizam', 1), ('alfaqu', 1), ('han', 1), ('collar', 1), ('copler', 1), ('ojinegr', 1), ('ensartal', 1), ('traesl', 1), ('retirarons', 1), ('lxviii', 1), ('cerdos', 1), ('desviat', 1), ('tenebr', 1), ('sper', 1), ('lucem', 1), ('buf', 1), ('ensordec', 1), ('gruñidor', 1), ('adiv', 1), ('avisp', 1), ('tornemon', 1), ('desfog', 1), ('madrigalet', 1), ('cople', 1), ('acurruc', 1), ('disting', 1), ('esperezos', 1), ('troglodit', 1), ('antropofag', 1), ('scit', 1), ('abrais', 1), ('polif', 1), ('tortolit', 1), ('estropaj', 1), ('perrit', 1), ('parv', 1), ('ojal', 1), ('valem', 1), ('vieronl', 1), ('lxix', 1), ('blandon', 1), ('odorifer', 1), ('penitenci', 1), ('volviosel', 1), ('estigi', 1), ('celebrandot', 1), ('declaral', 1), ('regostos', 1), ('bled', 1), ('azotanm', 1), ('hanl', 1), ('ablandat', 1), ('humillat', 1), ('nembrot', 1), ('nacist', 1), ('gateenm', 1), ('traspasenm', 1), ('atenacenm', 1), ('oliend', 1), ('vinagrill', 1), ('punzamient', 1), ('alfiler', 1), ('supin', 1), ('depus', 1), ('eficaci', 1), ('hojuel', 1), ('atarmel', 1), ('levantarons', 1), ('lxx', 1), ('carriol', 1), ('vinieral', 1), ('saliol', 1), ('mortifer', 1), ('durmierons', 1), ('contosel', 1), ('tunicel', 1), ('eban', 1), ('regañ', 1), ('vole', 1), ('papirotaz', 1), ('quitadmel', 1), ('metedl', 1), ('almirez', 1), ('cuesc', 1), ('camell', 1), ('creal', 1), ('panegir', 1), ('intons', 1), ('estorbaronl', 1), ('zahurd', 1), ('rander', 1), ('tar', 1), ('lxxi', 1), ('fisic', 1), ('cedulill', 1), ('catal', 1), ('cantus', 1), ('untar', 1), ('gratis', 1), ('azotat', 1), ('pagat', 1), ('pagart', 1), ('desfalc', 1), ('flexibl', 1), ('apresurart', 1), ('favorezcat', 1), ('desnudos', 1), ('zamor', 1), ('sobrecarg', 1), ('apartes', 1), ('pegat', 1), ('contendr', 1), ('ferreruel', 1), ('alojaronl', 1), ('guadamecil', 1), ('menala', 1), ('paris', 1), ('bodegon', 1), ('mauleon', 1), ('deum', 1), ('lxxii', 1), ('enjaez', 1), ('frion', 1), ('tutor', 1), ('nunci', 1), ('avellaned', 1), ('jurid', 1), ('partierons', 1), ('lxxiii', 1), ('riñend', 1), ('periquill', 1), ('querial', 1), ('presentosel', 1), ('presupong', 1), ('faltriquer', 1), ('hincapi', 1), ('reposter', 1), ('acomodol', 1), ('curambr', 1), ('ofreciendosel', 1), ('mañeruel', 1), ('daremosl', 1), ('amarilis', 1), ('fler', 1), ('belisard', 1), ('anard', 1), ('franceni', 1), ('lucind', 1), ('cofadr', 1), ('teresain', 1), ('pastorcill', 1), ('pastorc', 1), ('alcacel', 1), ('zampoñ', 1), ('curt', 1), ('lxxiv', 1), ('eclog', 1), ('sanazar', 1), ('barcin', 1), ('butron', 1), ('parecieronl', 1), ('caligin', 1), ('dejens', 1), ('mirarons', 1), ('confesol', 1), ('empujon', 1), ('sobrar', 1), ('restant', 1), ('averiguar', 1), ('distribu', 1), ('pias', 1), ('brind', 1), ('ahijarsel', 1), ('espeter', 1), ('alambr', 1), ('peñol', 1), ('presuntu', 1), ('profanart', 1), ('follonc', 1), ('tordesillesc', 1), ('deliñ', 1)]\n"
     ]
    }
   ],
   "source": [
    "print(cuenta_quijote.most_common()[-200:])"
   ]
  },
  {
   "cell_type": "code",
   "execution_count": 37,
   "metadata": {
    "scrolled": true,
    "slideshow": {
     "slide_type": "slide"
    }
   },
   "outputs": [
    {
     "name": "stdout",
     "output_type": "stream",
     "text": [
      "El ingenioso hidalgo don Quijote de la Mancha\n",
      "el ingenioso hidalgo don quijote de la mancha\n",
      "['ingeni', 'hidalg', 'don', 'quijot', 'manch']\n",
      "\n",
      "TASA\n",
      "tasa\n",
      "['tas']\n",
      "\n",
      "Yo, Juan Gallo de Andrada, escribano de Cámara del Rey nuestro señor, de\n",
      "yo  juan gallo de andrada  escribano de cámara del rey nuestro señor  de\n",
      "['juan', 'gall', 'andrad', 'escriban', 'cam', 'rey', 'señor']\n",
      "\n",
      "los que residen en su Consejo, certifico y doy fe que, habiendo visto por\n",
      "los que residen en su consejo  certifico y doy fe que  habiendo visto por\n",
      "['resid', 'consej', 'certif', 'doy', 'fe', 'hab', 'vist']\n",
      "\n",
      "los señores dél un libro intitulado El ingenioso hidalgo de la Mancha,\n",
      "los señores dél un libro intitulado el ingenioso hidalgo de la mancha \n",
      "['señor', 'del', 'libr', 'intitul', 'ingeni', 'hidalg', 'manch']\n",
      "\n",
      "compuesto por Miguel de Cervantes Saavedra, tasaron cada pliego del dicho\n",
      "compuesto por miguel de cervantes saavedra  tasaron cada pliego del dicho\n",
      "['compuest', 'miguel', 'cervant', 'saavedr', 'tas', 'plieg', 'dich']\n",
      "\n",
      "libro a tres maravedís y medio; el cual tiene ochenta y tres pliegos, que\n",
      "libro a tres maravedís y medio  el cual tiene ochenta y tres pliegos  que\n",
      "['libr', 'maraved', 'medi', 'tien', 'ochent', 'plieg']\n",
      "\n",
      "al dicho precio monta el dicho libro docientos y noventa maravedís y medio,\n",
      "al dicho precio monta el dicho libro docientos y noventa maravedís y medio \n",
      "['dich', 'preci', 'mont', 'dich', 'libr', 'docient', 'novent', 'maraved', 'medi']\n",
      "\n",
      "en que se ha de vender en papel; y dieron licencia para que a este precio\n",
      "en que se ha de vender en papel  y dieron licencia para que a este precio\n",
      "['vend', 'papel', 'dieron', 'licenci', 'preci']\n",
      "\n",
      "se pueda vender, y mandaron que esta tasa se ponga al principio del dicho\n",
      "se pueda vender  y mandaron que esta tasa se ponga al principio del dicho\n",
      "['pued', 'vend', 'mand', 'tas', 'pong', 'principi', 'dich']\n",
      "\n",
      "libro, y no se pueda vender sin ella. Y, para que dello conste, di la\n",
      "libro  y no se pueda vender sin ella  y  para que dello conste  di la\n",
      "['libr', 'pued', 'vend', 'dell', 'const', 'di']\n",
      "\n",
      "presente en Valladolid, a veinte días del mes de deciembre de mil y\n",
      "presente en valladolid  a veinte días del mes de deciembre de mil y\n",
      "['present', 'valladol', 'veint', 'dias', 'mes', 'deciembr', 'mil']\n",
      "\n",
      "seiscientos y cuatro años.\n",
      "seiscientos y cuatro años \n",
      "['seiscient', 'cuatr', 'años']\n",
      "\n",
      "Juan Gallo de Andrada.\n",
      "juan gallo de andrada \n",
      "['juan', 'gall', 'andrad']\n",
      "\n",
      "TESTIMONIO DE LAS ERRATAS\n",
      "testimonio de las erratas\n",
      "['testimoni', 'errat']\n",
      "\n",
      "Este libro no tiene cosa digna que no corresponda a su original; en\n",
      "este libro no tiene cosa digna que no corresponda a su original  en\n",
      "['libr', 'tien', 'cos', 'dign', 'correspond', 'original']\n",
      "\n",
      "testimonio de lo haber correcto, di esta fee. En el Colegio de la Madre de\n",
      "testimonio de lo haber correcto  di esta fee  en el colegio de la madre de\n",
      "['testimoni', 'correct', 'di', 'fee', 'colegi', 'madr']\n",
      "\n"
     ]
    }
   ],
   "source": [
    "with open(\"quijote_texto.txt\") as quijote:\n",
    "    for número, línea in enumerate(quijote):\n",
    "        if not línea.strip():\n",
    "            continue\n",
    "        print(línea.strip())\n",
    "        línea = limpiar(línea)\n",
    "        print(línea)\n",
    "        print(f\"{tokenize(línea)}\\n\")\n",
    "        if número > 20:\n",
    "            break\n"
   ]
  },
  {
   "cell_type": "markdown",
   "metadata": {
    "slideshow": {
     "slide_type": "slide"
    }
   },
   "source": [
    "## Las técnicas básicas\n",
    "\n",
    "* Usa los métodos de cadenas - str.translate, lower(), etc\n",
    "* Usa las comprensiones de listas para filtrar\n",
    "* Los conjuntos (sets) - son los más rápidos con `in`\n",
    "* Usa funciones - códico comun debe ponerse en funciones\n",
    "* Los decorators - útil para funciones que apoyan a otras funciones\n",
    "* Las expresiones regulares - más potentes, pero más lentas, deberían compilarse\n"
   ]
  },
  {
   "cell_type": "markdown",
   "metadata": {
    "slideshow": {
     "slide_type": "slide"
    }
   },
   "source": [
    "## Los aprendizajes\n",
    "\n",
    "* Empieza con lo simple\n",
    "* Toma en cuenta el propósito\n",
    "* Haz las comprobaciones de sanidad frecuentes\n",
    "* Limpiar los datos es destruir información, hazlo con cuidado\n"
   ]
  },
  {
   "cell_type": "markdown",
   "metadata": {
    "slideshow": {
     "slide_type": "slide"
    }
   },
   "source": [
    "## ¡Gracias!\n",
    "\n",
    "### ¿Preguntas?\n",
    "\n",
    "* **@naomiceder** - Twitter\n",
    "* **https://naomiceder.tech**  \n",
    "* **https://github.com/nceder/limpieza_de_datos** - este cuaderno\n",
    "* **https://twitch.tv/nceder** - Exploring Python, el viernes 2:00 PM CDT (19:00 UTC)\n",
    "* **https://us.pycon.org/2020/online/** - PyCon 2020 Online, Charlas, Talks, Tutorials\n"
   ]
  }
 ],
 "metadata": {
  "celltoolbar": "Slideshow",
  "kernelspec": {
   "display_name": "Python 3",
   "language": "python",
   "name": "python3"
  },
  "language_info": {
   "codemirror_mode": {
    "name": "ipython",
    "version": 3
   },
   "file_extension": ".py",
   "mimetype": "text/x-python",
   "name": "python",
   "nbconvert_exporter": "python",
   "pygments_lexer": "ipython3",
   "version": "3.6.4"
  },
  "livereveal": {
   "scroll": true,
   "start_slideshow_at": "selected",
   "transition": "none"
  },
  "nbpresent": {
   "slides": {
    "16fa30ee-1d7e-4f43-8365-3994b6ed36a8": {
     "id": "16fa30ee-1d7e-4f43-8365-3994b6ed36a8",
     "prev": "2bb83e06-39b5-4e33-86c6-1dfd5fca6c30",
     "regions": {
      "7a284399-8ba1-44d2-a414-f1f7ed045a81": {
       "attrs": {
        "height": 0.4,
        "width": 0.8,
        "x": 0.1,
        "y": 0.5
       },
       "content": {
        "cell": "9b164dc6-c050-4577-94a1-008abe094762",
        "part": "whole"
       },
       "id": "7a284399-8ba1-44d2-a414-f1f7ed045a81"
      },
      "ae912645-78b0-4103-888a-57c7c053f85a": {
       "attrs": {
        "height": 0.8,
        "width": 0.8,
        "x": 0.1,
        "y": 0.1
       },
       "content": {
        "cell": "9f76d53b-d0f8-4bfc-af42-a26ebf252826",
        "part": "whole"
       },
       "id": "ae912645-78b0-4103-888a-57c7c053f85a"
      },
      "ea333b90-9bec-4680-8f52-5d567d5a5b11": {
       "attrs": {
        "height": 0.4,
        "width": 0.8,
        "x": 0.1,
        "y": 0.5
       },
       "content": {
        "cell": "6545282f-ccba-4d6d-9f4e-df39b58cf55a",
        "part": "whole"
       },
       "id": "ea333b90-9bec-4680-8f52-5d567d5a5b11"
      }
     }
    },
    "1cca9be6-223a-4a5b-9707-c9f192485ab9": {
     "id": "1cca9be6-223a-4a5b-9707-c9f192485ab9",
     "prev": "5956f6ec-fa48-4408-a0d0-b400ebdf7c74",
     "regions": {
      "08bb1fde-08c9-4d9d-87a0-9dfbcf368ceb": {
       "attrs": {
        "height": 0.8,
        "width": 0.8,
        "x": 0.1,
        "y": 0.1
       },
       "content": {
        "cell": "c55fd0b6-61f6-44ef-b90e-254adccefb6b",
        "part": "whole"
       },
       "id": "08bb1fde-08c9-4d9d-87a0-9dfbcf368ceb"
      },
      "1ce204ad-2b0a-4c6e-a192-934945b2f900": {
       "attrs": {
        "height": 0.4,
        "width": 0.8,
        "x": 0.1,
        "y": 0.5
       },
       "content": {
        "cell": "cca27bf6-5f61-46a7-bb21-e5759ea6981d",
        "part": "whole"
       },
       "id": "1ce204ad-2b0a-4c6e-a192-934945b2f900"
      },
      "632b6b63-2b29-475d-90a5-c5bafef46831": {
       "attrs": {
        "height": 0.4,
        "width": 0.8,
        "x": 0.1,
        "y": 0.5
       },
       "content": {
        "cell": "2434938b-ccb3-47f4-a5f3-21ecf43c23f9",
        "part": "whole"
       },
       "id": "632b6b63-2b29-475d-90a5-c5bafef46831"
      }
     }
    },
    "2271af5b-13e3-41ba-bca0-1eabb3d29814": {
     "id": "2271af5b-13e3-41ba-bca0-1eabb3d29814",
     "prev": null,
     "regions": {
      "99631131-5bdc-4fa0-a464-4659b3c109d0": {
       "attrs": {
        "height": 0.8,
        "width": 0.8,
        "x": 0.1,
        "y": 0.1
       },
       "content": {
        "cell": "26b3b9ad-6a1d-474b-8f6c-40acd315151a",
        "part": "whole"
       },
       "id": "99631131-5bdc-4fa0-a464-4659b3c109d0"
      }
     }
    },
    "2b0e9ac9-aade-4454-b430-35240525f60f": {
     "id": "2b0e9ac9-aade-4454-b430-35240525f60f",
     "prev": "fd14396f-871d-4acc-8bc7-0b5318ba394a",
     "regions": {
      "d5dfcaaf-2c1e-4787-92c0-8a147ae14c5d": {
       "attrs": {
        "height": 0.8,
        "width": 0.8,
        "x": 0.1,
        "y": 0.1
       },
       "content": {
        "cell": "ec3c0175-88c7-4162-8236-2b24993de91f",
        "part": "whole"
       },
       "id": "d5dfcaaf-2c1e-4787-92c0-8a147ae14c5d"
      }
     }
    },
    "2bb83e06-39b5-4e33-86c6-1dfd5fca6c30": {
     "id": "2bb83e06-39b5-4e33-86c6-1dfd5fca6c30",
     "prev": "8a36bdbb-f784-456c-9c16-aa88631e0226",
     "regions": {
      "0e7f7b42-07a6-4e4d-b997-2bf0f9af2713": {
       "attrs": {
        "height": 0.8,
        "width": 0.8,
        "x": 0.1,
        "y": 0.1
       },
       "content": {
        "cell": "855fc1b2-1ef8-4703-88ea-05c8d5a5fb67",
        "part": "whole"
       },
       "id": "0e7f7b42-07a6-4e4d-b997-2bf0f9af2713"
      }
     }
    },
    "3713f2d9-f7fb-45ee-b9c7-f54435c791e2": {
     "id": "3713f2d9-f7fb-45ee-b9c7-f54435c791e2",
     "prev": "8abe55f1-aeb9-4f3b-9647-826c3c5c5eb8",
     "regions": {
      "6d213c8a-2e39-4ddc-b318-1377dbf3cebf": {
       "attrs": {
        "height": 0.4,
        "width": 0.8,
        "x": 0.1,
        "y": 0.5
       },
       "content": {
        "cell": "f0f51b1e-32fa-4f49-8f9c-08ae6d1d8594",
        "part": "whole"
       },
       "id": "6d213c8a-2e39-4ddc-b318-1377dbf3cebf"
      },
      "c41ae2cf-4cc5-41c5-899c-c02a0cc41ece": {
       "attrs": {
        "height": 0.8,
        "width": 0.8,
        "x": 0.1,
        "y": 0.1
       },
       "content": {
        "cell": "cbdb2153-4119-4d75-ab38-eb2d96c75126",
        "part": "whole"
       },
       "id": "c41ae2cf-4cc5-41c5-899c-c02a0cc41ece"
      }
     }
    },
    "4711fc1f-0094-4dcf-81f2-cff55054acc3": {
     "id": "4711fc1f-0094-4dcf-81f2-cff55054acc3",
     "prev": "c12efa03-d7cc-4b62-bb40-af27fa139fbb",
     "regions": {
      "aa9fbdef-534e-4087-9184-cdd3b737efa5": {
       "attrs": {
        "height": 0.8,
        "width": 0.8,
        "x": 0.1,
        "y": 0.1
       },
       "content": {
        "cell": "2473fb9f-590d-4776-80a5-efee83edf680",
        "part": "whole"
       },
       "id": "aa9fbdef-534e-4087-9184-cdd3b737efa5"
      }
     }
    },
    "4cab0740-2171-470e-9e99-b5c208a46636": {
     "id": "4cab0740-2171-470e-9e99-b5c208a46636",
     "prev": "2271af5b-13e3-41ba-bca0-1eabb3d29814",
     "regions": {
      "f22d4f46-139f-4f7c-adf8-51a81d8159ae": {
       "attrs": {
        "height": 0.8,
        "width": 0.8,
        "x": 0.1,
        "y": 0.1
       },
       "content": {
        "cell": "57cfcf5b-27d3-4711-b915-6ccfad966136",
        "part": "whole"
       },
       "id": "f22d4f46-139f-4f7c-adf8-51a81d8159ae"
      }
     }
    },
    "4fc2f5c6-f0a7-4acc-a94e-9cf57c7bd2c8": {
     "id": "4fc2f5c6-f0a7-4acc-a94e-9cf57c7bd2c8",
     "prev": "f45f4adf-9269-4537-896d-2a4da0c01289",
     "regions": {
      "18c98fb3-0f95-4f9c-8bf2-00bb5ac3d66b": {
       "attrs": {
        "height": 0.4,
        "width": 0.8,
        "x": 0.1,
        "y": 0.5
       },
       "content": {
        "cell": "c42e83a7-df66-4d2d-a1df-c75e2c1f624e",
        "part": "whole"
       },
       "id": "18c98fb3-0f95-4f9c-8bf2-00bb5ac3d66b"
      },
      "20813141-8324-4d51-b413-db698660150d": {
       "attrs": {
        "height": 0.4,
        "width": 0.8,
        "x": 0.1,
        "y": 0.5
       },
       "content": {
        "cell": "090c6c48-6c1a-4935-a04f-db2ac240f166",
        "part": "whole"
       },
       "id": "20813141-8324-4d51-b413-db698660150d"
      },
      "24536391-3528-43e8-a743-831cb3804038": {
       "attrs": {
        "height": 0.4,
        "width": 0.8,
        "x": 0.1,
        "y": 0.5
       },
       "content": {
        "cell": "ee172c6b-3420-4ffc-b39a-f5272cd4c886",
        "part": "whole"
       },
       "id": "24536391-3528-43e8-a743-831cb3804038"
      },
      "3881f557-46f5-4b46-96d1-2e1ddcb98d4e": {
       "attrs": {
        "height": 0.4,
        "width": 0.8,
        "x": 0.1,
        "y": 0.5
       },
       "content": {
        "cell": "e401e860-8472-4fe9-9627-2c3ca0ff9166",
        "part": "whole"
       },
       "id": "3881f557-46f5-4b46-96d1-2e1ddcb98d4e"
      },
      "3bfeee05-c5a3-4996-89b9-a40618b86628": {
       "attrs": {
        "height": 0.4,
        "width": 0.8,
        "x": 0.1,
        "y": 0.5
       },
       "content": {
        "cell": "7ee12f08-e052-4fd9-bccf-56a8dcb59045",
        "part": "whole"
       },
       "id": "3bfeee05-c5a3-4996-89b9-a40618b86628"
      },
      "53fe6a5f-c6c3-46ae-9190-7374d5691a0c": {
       "attrs": {
        "height": 0.4,
        "width": 0.8,
        "x": 0.1,
        "y": 0.5
       },
       "content": {
        "cell": "9a80d0eb-1430-4077-b413-362fdd14fa37",
        "part": "whole"
       },
       "id": "53fe6a5f-c6c3-46ae-9190-7374d5691a0c"
      },
      "576b8041-2fd3-41fd-af34-fb6efba583ee": {
       "attrs": {
        "height": 0.4,
        "width": 0.8,
        "x": 0.1,
        "y": 0.5
       },
       "content": {
        "cell": "e8e54e66-8897-4837-a1bc-b8919cc3e4af",
        "part": "whole"
       },
       "id": "576b8041-2fd3-41fd-af34-fb6efba583ee"
      },
      "58593b46-d3ca-4262-b83d-f7475d3ebdd6": {
       "attrs": {
        "height": 0.4,
        "width": 0.8,
        "x": 0.1,
        "y": 0.5
       },
       "content": {
        "cell": "b70999ef-371c-47f8-b617-dd5e4fd4b23f",
        "part": "whole"
       },
       "id": "58593b46-d3ca-4262-b83d-f7475d3ebdd6"
      },
      "6221e80e-3348-49e2-8855-117939496fbf": {
       "attrs": {
        "height": 0.4,
        "width": 0.8,
        "x": 0.1,
        "y": 0.5
       },
       "content": {
        "cell": "efd64576-0af8-4206-85b4-deefc6a3332a",
        "part": "whole"
       },
       "id": "6221e80e-3348-49e2-8855-117939496fbf"
      },
      "66297336-7886-44fd-b710-368996df6224": {
       "attrs": {
        "height": 0.4,
        "width": 0.8,
        "x": 0.1,
        "y": 0.5
       },
       "content": {
        "cell": "8a2d3988-8dc4-443e-9e71-75e33809d53b",
        "part": "whole"
       },
       "id": "66297336-7886-44fd-b710-368996df6224"
      },
      "6ff8b1b4-9154-4199-84fa-33f9d968281a": {
       "attrs": {
        "height": 0.4,
        "width": 0.8,
        "x": 0.1,
        "y": 0.5
       },
       "content": {
        "cell": "8e4a498c-06d0-4faa-9f67-34d9500963a2",
        "part": "whole"
       },
       "id": "6ff8b1b4-9154-4199-84fa-33f9d968281a"
      },
      "83c98357-157e-4a1f-a76f-d0b396306d4f": {
       "attrs": {
        "height": 0.4,
        "width": 0.8,
        "x": 0.1,
        "y": 0.5
       },
       "content": {
        "cell": "95a06dd6-07a2-423a-929c-aa1b046c1b11",
        "part": "whole"
       },
       "id": "83c98357-157e-4a1f-a76f-d0b396306d4f"
      },
      "89109a43-a125-4b4e-b8e8-71cabc620fa0": {
       "attrs": {
        "height": 0.4,
        "width": 0.8,
        "x": 0.1,
        "y": 0.5
       },
       "content": {
        "cell": "f3c1746e-4236-45e4-9849-55133d08c7e3",
        "part": "whole"
       },
       "id": "89109a43-a125-4b4e-b8e8-71cabc620fa0"
      },
      "8a4b5f61-77a1-4a39-85d1-5e4135bff9b6": {
       "attrs": {
        "height": 0.8,
        "width": 0.8,
        "x": 0.1,
        "y": 0.1
       },
       "content": {
        "cell": "256f1747-2548-47b6-97e2-051d435a0f53",
        "part": "whole"
       },
       "id": "8a4b5f61-77a1-4a39-85d1-5e4135bff9b6"
      },
      "98659134-0c83-4e95-b77e-cc88510a3d5f": {
       "attrs": {
        "height": 0.4,
        "width": 0.8,
        "x": 0.1,
        "y": 0.5
       },
       "content": {
        "cell": "1f2dceeb-f08f-4894-8433-260956e571f2",
        "part": "whole"
       },
       "id": "98659134-0c83-4e95-b77e-cc88510a3d5f"
      },
      "c24d551b-1015-4985-ba39-09a0486542cd": {
       "attrs": {
        "height": 0.4,
        "width": 0.8,
        "x": 0.1,
        "y": 0.5
       },
       "content": {
        "cell": "a50f85b8-a51a-4555-802d-0d0822a59ad3",
        "part": "whole"
       },
       "id": "c24d551b-1015-4985-ba39-09a0486542cd"
      },
      "c2f27365-353d-4f5c-917b-c1d2a020083b": {
       "attrs": {
        "height": 0.4,
        "width": 0.8,
        "x": 0.1,
        "y": 0.5
       },
       "content": {
        "cell": "f3318c2a-024f-4294-af42-8062b373c241",
        "part": "whole"
       },
       "id": "c2f27365-353d-4f5c-917b-c1d2a020083b"
      },
      "d5067ccb-aea2-4f92-9e26-330dd4feb846": {
       "attrs": {
        "height": 0.4,
        "width": 0.8,
        "x": 0.1,
        "y": 0.5
       },
       "content": {
        "cell": "ca54d50c-3369-4261-bfcf-74f61538303e",
        "part": "whole"
       },
       "id": "d5067ccb-aea2-4f92-9e26-330dd4feb846"
      },
      "d63be773-c8c2-49d4-a849-3494dffc8fff": {
       "attrs": {
        "height": 0.4,
        "width": 0.8,
        "x": 0.1,
        "y": 0.5
       },
       "content": {
        "cell": "1cefab28-c321-423f-bbc3-8bc4018fb849",
        "part": "whole"
       },
       "id": "d63be773-c8c2-49d4-a849-3494dffc8fff"
      },
      "dca4e698-a1a3-44fb-915a-3a83cf836c45": {
       "attrs": {
        "height": 0.4,
        "width": 0.8,
        "x": 0.1,
        "y": 0.5
       },
       "content": {
        "cell": "a58156c7-8378-42b9-b05f-edc02674c066",
        "part": "whole"
       },
       "id": "dca4e698-a1a3-44fb-915a-3a83cf836c45"
      },
      "fcf73e01-ac73-49f3-88b5-8d2d9bd619b0": {
       "attrs": {
        "height": 0.4,
        "width": 0.8,
        "x": 0.1,
        "y": 0.5
       },
       "content": {
        "cell": "31e0a3fe-eedb-4467-8a34-a573daccc81f",
        "part": "whole"
       },
       "id": "fcf73e01-ac73-49f3-88b5-8d2d9bd619b0"
      },
      "fd16cd8d-0994-4db4-9703-7cf3383db640": {
       "attrs": {
        "height": 0.4,
        "width": 0.8,
        "x": 0.1,
        "y": 0.5
       },
       "content": {
        "cell": "191ab12e-9042-48dd-88b5-786615ea198d",
        "part": "whole"
       },
       "id": "fd16cd8d-0994-4db4-9703-7cf3383db640"
      }
     }
    },
    "5956f6ec-fa48-4408-a0d0-b400ebdf7c74": {
     "id": "5956f6ec-fa48-4408-a0d0-b400ebdf7c74",
     "prev": "81c6a365-dba6-437b-998a-acfa38fa7eb2",
     "regions": {
      "40efe847-64ac-41df-957b-01a13f8b9963": {
       "attrs": {
        "height": 0.8,
        "width": 0.8,
        "x": 0.1,
        "y": 0.1
       },
       "content": {
        "cell": "d52073c0-a871-4bed-aab5-77f0514d8031",
        "part": "whole"
       },
       "id": "40efe847-64ac-41df-957b-01a13f8b9963"
      },
      "d8b22093-e9b2-482b-a452-988b71602f7c": {
       "attrs": {
        "height": 0.4,
        "width": 0.8,
        "x": 0.1,
        "y": 0.5
       },
       "content": {
        "cell": "d89f0121-0c7c-4b75-8807-b4707ae468f0",
        "part": "whole"
       },
       "id": "d8b22093-e9b2-482b-a452-988b71602f7c"
      }
     }
    },
    "81c6a365-dba6-437b-998a-acfa38fa7eb2": {
     "id": "81c6a365-dba6-437b-998a-acfa38fa7eb2",
     "prev": "4cab0740-2171-470e-9e99-b5c208a46636",
     "regions": {
      "d9b320a4-9290-452a-988a-ad49c7ab9d69": {
       "attrs": {
        "height": 0.8,
        "width": 0.8,
        "x": 0.1,
        "y": 0.1
       },
       "content": {
        "cell": "44b6aa0a-4f02-42b2-8aa1-40370671ff15",
        "part": "whole"
       },
       "id": "d9b320a4-9290-452a-988a-ad49c7ab9d69"
      }
     }
    },
    "822a9439-4fd8-43b4-8faa-7fd7a4889424": {
     "id": "822a9439-4fd8-43b4-8faa-7fd7a4889424",
     "prev": "f094fd9f-677b-461e-a9f4-c1514c4974e9",
     "regions": {
      "95d4e86b-51d8-4d43-9ea9-92d76ce78d3b": {
       "attrs": {
        "height": 0.8,
        "width": 0.8,
        "x": 0.1,
        "y": 0.1
       },
       "content": {
        "cell": "adecdecf-3fae-4cbe-924a-f771e1472170",
        "part": "whole"
       },
       "id": "95d4e86b-51d8-4d43-9ea9-92d76ce78d3b"
      }
     }
    },
    "8a36bdbb-f784-456c-9c16-aa88631e0226": {
     "id": "8a36bdbb-f784-456c-9c16-aa88631e0226",
     "prev": "822a9439-4fd8-43b4-8faa-7fd7a4889424",
     "regions": {
      "ceb58d0c-5256-4b9f-b2ca-82ea6ca3dfb3": {
       "attrs": {
        "height": 0.8,
        "width": 0.8,
        "x": 0.1,
        "y": 0.1
       },
       "content": {
        "cell": "ea818d06-7843-49d1-8f41-c72400fcb45c",
        "part": "whole"
       },
       "id": "ceb58d0c-5256-4b9f-b2ca-82ea6ca3dfb3"
      }
     }
    },
    "8abe55f1-aeb9-4f3b-9647-826c3c5c5eb8": {
     "id": "8abe55f1-aeb9-4f3b-9647-826c3c5c5eb8",
     "prev": "16fa30ee-1d7e-4f43-8365-3994b6ed36a8",
     "regions": {
      "5883ca9e-a41e-4a67-a30e-41f04e672f09": {
       "attrs": {
        "height": 0.4,
        "width": 0.8,
        "x": 0.1,
        "y": 0.5
       },
       "content": {
        "cell": "7e7e0d3c-2a00-4e2d-8981-ace7238f0b97",
        "part": "whole"
       },
       "id": "5883ca9e-a41e-4a67-a30e-41f04e672f09"
      },
      "c0a83654-bc17-4e8c-96e3-858c8d695561": {
       "attrs": {
        "height": 0.8,
        "width": 0.8,
        "x": 0.1,
        "y": 0.1
       },
       "content": {
        "cell": "7dd1ca3f-a372-4072-9857-94ddbbc9ae03",
        "part": "whole"
       },
       "id": "c0a83654-bc17-4e8c-96e3-858c8d695561"
      }
     }
    },
    "aeb6875a-4ea0-45ab-abdb-2cf4daf7ad9a": {
     "id": "aeb6875a-4ea0-45ab-abdb-2cf4daf7ad9a",
     "prev": "3713f2d9-f7fb-45ee-b9c7-f54435c791e2",
     "regions": {
      "da27c6dc-1026-4e8e-8d22-fb3dea23b0e7": {
       "attrs": {
        "height": 0.8,
        "width": 0.8,
        "x": 0.1,
        "y": 0.1
       },
       "content": {
        "cell": "db66e259-97ad-42ef-a9d4-7edb1f40ab9d",
        "part": "whole"
       },
       "id": "da27c6dc-1026-4e8e-8d22-fb3dea23b0e7"
      }
     }
    },
    "b72164a6-d71e-401c-8802-bddaad80f904": {
     "id": "b72164a6-d71e-401c-8802-bddaad80f904",
     "prev": "2b0e9ac9-aade-4454-b430-35240525f60f",
     "regions": {
      "ae7f55d3-977b-4869-b73b-adcde2189c7c": {
       "attrs": {
        "height": 0.8,
        "width": 0.8,
        "x": 0.1,
        "y": 0.1
       },
       "content": {
        "cell": "0b906ef0-cb14-4024-b76c-57cc10b7c6ec",
        "part": "whole"
       },
       "id": "ae7f55d3-977b-4869-b73b-adcde2189c7c"
      }
     }
    },
    "c12efa03-d7cc-4b62-bb40-af27fa139fbb": {
     "id": "c12efa03-d7cc-4b62-bb40-af27fa139fbb",
     "prev": "b72164a6-d71e-401c-8802-bddaad80f904",
     "regions": {
      "e64b9133-8ec2-47c9-b6dd-d5ca31620485": {
       "attrs": {
        "height": 0.8,
        "width": 0.8,
        "x": 0.1,
        "y": 0.1
       },
       "content": {
        "cell": "142cbc80-7592-4584-bebe-b56b5767fa9f",
        "part": "whole"
       },
       "id": "e64b9133-8ec2-47c9-b6dd-d5ca31620485"
      }
     }
    },
    "dc8bd225-4da4-4a36-888a-63345625cfac": {
     "id": "dc8bd225-4da4-4a36-888a-63345625cfac",
     "prev": "e4b6904d-f2df-4928-bed7-38d942ebf43d",
     "regions": {
      "58717af3-8936-4361-b91a-f08fe4ac5b9f": {
       "attrs": {
        "height": 0.8,
        "width": 0.8,
        "x": 0.1,
        "y": 0.1
       },
       "content": {
        "cell": "caba240f-096b-4ab7-8695-ffd9ab9587d8",
        "part": "whole"
       },
       "id": "58717af3-8936-4361-b91a-f08fe4ac5b9f"
      }
     }
    },
    "dd65f256-4375-428d-8c7c-1336ffa82e51": {
     "id": "dd65f256-4375-428d-8c7c-1336ffa82e51",
     "prev": "f8f80794-864a-4440-9310-50b7d4ff2a38",
     "regions": {
      "52383c01-8be2-48a9-bf0c-d9e4ffbd5b02": {
       "attrs": {
        "height": 0.8,
        "width": 0.8,
        "x": 0.1,
        "y": 0.1
       },
       "content": {
        "cell": "8d8c0abd-8dee-47c3-91be-b8c1d712a6a0",
        "part": "whole"
       },
       "id": "52383c01-8be2-48a9-bf0c-d9e4ffbd5b02"
      }
     }
    },
    "e4b6904d-f2df-4928-bed7-38d942ebf43d": {
     "id": "e4b6904d-f2df-4928-bed7-38d942ebf43d",
     "prev": "f2e7b630-0d95-407c-8e98-744d36c56952",
     "regions": {
      "be607cc3-f26d-4610-84f6-0e279a1bc4ac": {
       "attrs": {
        "height": 0.8,
        "width": 0.8,
        "x": 0.1,
        "y": 0.1
       },
       "content": {
        "cell": "7638f572-4bae-4b96-adb0-1fae64570d7e",
        "part": "whole"
       },
       "id": "be607cc3-f26d-4610-84f6-0e279a1bc4ac"
      }
     }
    },
    "f094fd9f-677b-461e-a9f4-c1514c4974e9": {
     "id": "f094fd9f-677b-461e-a9f4-c1514c4974e9",
     "prev": "dc8bd225-4da4-4a36-888a-63345625cfac",
     "regions": {
      "8fab4ad5-5396-4f4d-8af7-f1879b6b8e1e": {
       "attrs": {
        "height": 0.8,
        "width": 0.8,
        "x": 0.1,
        "y": 0.1
       },
       "content": {
        "cell": "b87321af-d1fb-4087-b1c1-3416ddc3e825",
        "part": "whole"
       },
       "id": "8fab4ad5-5396-4f4d-8af7-f1879b6b8e1e"
      }
     }
    },
    "f2e7b630-0d95-407c-8e98-744d36c56952": {
     "id": "f2e7b630-0d95-407c-8e98-744d36c56952",
     "prev": "1cca9be6-223a-4a5b-9707-c9f192485ab9",
     "regions": {
      "a4dfda0d-382a-4bf1-9f84-2c8b34387f8e": {
       "attrs": {
        "height": 0.8,
        "width": 0.8,
        "x": 0.1,
        "y": 0.1
       },
       "content": {
        "cell": "7c0509c4-3df6-4249-87d6-8b033b3657ee",
        "part": "whole"
       },
       "id": "a4dfda0d-382a-4bf1-9f84-2c8b34387f8e"
      },
      "a57128af-9b92-4741-b61f-cc4cdae5b36b": {
       "attrs": {
        "height": 0.4,
        "width": 0.8,
        "x": 0.1,
        "y": 0.5
       },
       "content": {
        "cell": "dedbb0df-23b8-429b-aa79-a5ddbac3a40c",
        "part": "whole"
       },
       "id": "a57128af-9b92-4741-b61f-cc4cdae5b36b"
      },
      "ab48348e-6ba8-4a9d-982b-fc757779c7ee": {
       "attrs": {
        "height": 0.4,
        "width": 0.8,
        "x": 0.1,
        "y": 0.5
       },
       "content": {
        "cell": "3d29f057-eb27-41a6-902d-78c33d4769f7",
        "part": "whole"
       },
       "id": "ab48348e-6ba8-4a9d-982b-fc757779c7ee"
      }
     }
    },
    "f45f4adf-9269-4537-896d-2a4da0c01289": {
     "id": "f45f4adf-9269-4537-896d-2a4da0c01289",
     "prev": "aeb6875a-4ea0-45ab-abdb-2cf4daf7ad9a",
     "regions": {
      "81efb807-e109-45e8-9ddf-30eb49c89e24": {
       "attrs": {
        "height": 0.8,
        "width": 0.8,
        "x": 0.1,
        "y": 0.1
       },
       "content": {
        "cell": "14ff4504-1e30-4a47-8d6d-b514a9eb6869",
        "part": "whole"
       },
       "id": "81efb807-e109-45e8-9ddf-30eb49c89e24"
      }
     }
    },
    "f8f80794-864a-4440-9310-50b7d4ff2a38": {
     "id": "f8f80794-864a-4440-9310-50b7d4ff2a38",
     "prev": "4fc2f5c6-f0a7-4acc-a94e-9cf57c7bd2c8",
     "regions": {
      "dfb2e548-c607-4ae8-8f1e-e0ebc696986d": {
       "attrs": {
        "height": 0.8,
        "width": 0.8,
        "x": 0.1,
        "y": 0.1
       },
       "content": {
        "cell": "92b85c3a-29de-4cd2-ad18-a218b0e718b6",
        "part": "whole"
       },
       "id": "dfb2e548-c607-4ae8-8f1e-e0ebc696986d"
      }
     }
    },
    "fd14396f-871d-4acc-8bc7-0b5318ba394a": {
     "id": "fd14396f-871d-4acc-8bc7-0b5318ba394a",
     "prev": "dd65f256-4375-428d-8c7c-1336ffa82e51",
     "regions": {
      "1bc58dd5-cb9c-49ec-8d63-2ff111a76e29": {
       "attrs": {
        "height": 0.8,
        "width": 0.8,
        "x": 0.1,
        "y": 0.1
       },
       "content": {
        "cell": "ac78d922-891e-4e49-af30-9690c44456a0",
        "part": "whole"
       },
       "id": "1bc58dd5-cb9c-49ec-8d63-2ff111a76e29"
      }
     }
    }
   },
   "themes": {}
  },
  "toc": {
   "nav_menu": {},
   "number_sections": false,
   "sideBar": true,
   "skip_h1_title": false,
   "toc_cell": false,
   "toc_position": {},
   "toc_section_display": "block",
   "toc_window_display": false
  }
 },
 "nbformat": 4,
 "nbformat_minor": 2
}
